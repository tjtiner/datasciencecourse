{
 "cells": [
  {
   "cell_type": "markdown",
   "metadata": {},
   "source": [
    "**Basic Info**\n",
    "+ Project Name: NBA Rookie Success Model\n",
    "+ Names: Travis Tiner and Jake Kerr\n",
    "+ Email Addresses: u0769566@utah.edu, and u0858883@utah.edu\n",
    "+ UID's: u0769566, and u0858883"
   ]
  },
  {
   "cell_type": "markdown",
   "metadata": {},
   "source": [
    "<br>**Background and Motivation**<br>\n",
    "We enjoy sports, specifically the NBA. I have heard about teams putting players into models to predict their potential, and thought it would be interesting to create something similar to that.\n"
   ]
  },
  {
   "cell_type": "markdown",
   "metadata": {},
   "source": [
    "<br>**Project Objectives**<br>\n",
    "To train a model that can, with some level of accuracy, predict what caliber of NBA player someone will be by looking at their rookie year statistics.\n"
   ]
  },
  {
   "cell_type": "markdown",
   "metadata": {},
   "source": [
    "<br>**Data**<br>\n",
    "We will be getting our data from basketball-reference.com. We will be scraping this website for players' rookie year stats, as well as their career long stats. Due to changes in the NBA, including the addition of the 3-pt line, we will only be looking at players that played with the 3-point line at any point in their career. This limits our data, with our first player's rookie year being 1962-63, with the majority of players starting to come after 1967-1968. An example of a player's page from basketball-reference.com is [here](https://www.basketball-reference.com/players/a/abdulka01.html)."
   ]
  },
  {
   "cell_type": "markdown",
   "metadata": {},
   "source": [
    "<br>**Data Processing**<br>\n",
    "We will be scraping basketball-reference.com to collect our data. Because the data is already in tabular form, we don't expect that we will need to do much cleaning of the data once we extract it. The extraction part may take some time, due to the large number of players we will be analyzing. <br>\n",
    "\n",
    "We are especially curious about players' rookie year stats, as well as their career stats and accolades in the NBA. Basketball-reference has a variety of statistics available to us. We will plan on focusing on basic statistics such as points, blocks, assists etc., but will consider more advanced statistics such as NET+/-, BPM, VORP etc. as well. We will look at statistics per time played and per possessions played. "
   ]
  },
  {
   "cell_type": "markdown",
   "metadata": {},
   "source": [
    "<br>**Exploratory Analysis**<br>\n",
    "We plan on using a correlation heatmap to quickly see which stats are highly correlated. "
   ]
  },
  {
   "cell_type": "markdown",
   "metadata": {},
   "source": [
    "<br>**Analysis Methodology**<br>\n",
    "We will use a variety of classification methods, including k-NN, SVM, Decision Trees, etc. We will also try to apply clustering to our data. "
   ]
  },
  {
   "cell_type": "markdown",
   "metadata": {},
   "source": [
    "<br>**Project Schedule**<br>\n",
    "+ By 3/19: Acquired and cleaned the data from basketball-reference\n",
    "+ By 3/26: Done initial exploratory analysis\n",
    "+ By 4/1: Project Milestone needs to be completed\n",
    "+ By 4/8: More complex analysis, determine which classification methods are best\n",
    "+ By 4/15: Visualizations, explaining results\n",
    "+ By 4/22: Final project due. Screen-cast completed, ready to present."
   ]
  },
  {
   "cell_type": "code",
   "execution_count": null,
   "metadata": {
    "collapsed": true
   },
   "outputs": [],
   "source": []
  }
 ],
 "metadata": {
  "kernelspec": {
   "display_name": "Python 3",
   "language": "python",
   "name": "python3"
  },
  "language_info": {
   "codemirror_mode": {
    "name": "ipython",
    "version": 3
   },
   "file_extension": ".py",
   "mimetype": "text/x-python",
   "name": "python",
   "nbconvert_exporter": "python",
   "pygments_lexer": "ipython3",
   "version": "3.6.3"
  }
 },
 "nbformat": 4,
 "nbformat_minor": 2
}
