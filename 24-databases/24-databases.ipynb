{
 "cells": [
  {
   "cell_type": "markdown",
   "metadata": {},
   "source": [
    "# Introduction to Data Science – Relational Databases\n",
    "*COMP 5360 / MATH 4100, University of Utah, http://datasciencecourse.net/* \n",
    "\n",
    "Up to now, we've mainly used flat tables to store and process data. Most structured data in the real world, however, is stored in databases, and specifically in [relational databases](https://en.wikipedia.org/wiki/Relational_database). Other database types have specific advantages, such as performance (NoSQL), are suitable for graphs (graph databases, e.g., Neo4j), or are compatibility with in-memory OO data structures (Object Oriented Databases). Relational databases, and their implementations - Relational Database Management Systems (RDBMS), are still the dominant way to store enterprise data though.\n",
    "\n",
    "Unlike with APIs or web-scarping, it is unlikely that you will be able to access a public database directly. Databases are powerful, but also can be somewhat difficult to use. It's more likely that an API that you interact with is powerd by a relational database behind the scenes, hiding the complexity.\n",
    "\n",
    "Also, while we've mainly considered reading data, databases are meant also for writing, increasing the potential for abuse. So the most likely scenario for having read/write access to a database is if the database is managed by you or your organization. "
   ]
  },
  {
   "cell_type": "markdown",
   "metadata": {},
   "source": [
    "What's the purpose of a relational database? It separates data into multiple tables to avoid redundancy. Here is a simple example for an online transaction in a flat table that describes the data:\n",
    "\n",
    "| Product Name | Price | Product Description | Customer Name | Customer Address| \n",
    "| ------------- | - | - | - | -| \n",
    "| MacBook | 2700 | MacBook Pro 15' | Jack Black | San Francisco |  \n",
    "| Dongle HDMI | 40 | USB-C to HDMI | Jack Black | San Francisco | \n",
    "| Dongle USB-B | 40 | USB-C to USB-B | Jack Black | San Francisco | \n",
    "\n",
    "The problem here is that we store the name of the customer multiple times, and, if multiple customers purchase the same item, also all the information about the products. Obviously, that's neither great from a storage efficiency perspective nor from an update perspective. If Jack Black wants to update his address, for example, than we'd have to update all three rows. "
   ]
  },
  {
   "cell_type": "markdown",
   "metadata": {},
   "source": [
    "A different approach is to separate this table into multiple, meaningful tables. We'll introduce a Customers, Products and a Transactions table. And we'll introduce keys for each row in this table:\n",
    "\n",
    "**Customers Table**:\n",
    "\n",
    "| CID | Customer Name | Customer Address | \n",
    "| - | - | - |\n",
    "| 1 | Jack Black | San Francisco |\n",
    "\n",
    "**Products Table**:\n",
    "\n",
    "| PID | Product Name | Price | Product Description |\n",
    "| - | - | - | - | \n",
    "| 1 | MacBook | 2700 | MacBook Pro 15' |\n",
    "| 2 | Dongle HDMI | 40 | USB-C to HDMI |\n",
    "| 3 | Dongle USB-B | 40 | USB-C to USB-B |\n",
    "\n",
    "CID and PID are called **primary keys**, as they uniquely identify the row in the table. \n",
    "\n",
    "The Transaction Table now refers to the products and the customers only by their keys, which are called **foreign keys** in this context, as they are the primary keys of a \"foreign\" table.\n",
    "\n",
    "**Transactions Table**: \n",
    "\n",
    "| TID | PID | CID | \n",
    "| - | - | - |\n",
    "| 1 | 1 | 1 | \n",
    "| 2 | 3 | 1 | \n",
    "| 3 | 2 | 1 | \n",
    "\n",
    "Now, if Jack Black wants to update his address, or if the seller wants to update the product description, we can do this in a single place. \n",
    "\n",
    "Of course, we have to do a little more work to regenerate (an interesting subset) of transactions, as we had it before. In this lab we'll learn how to do that and more. "
   ]
  },
  {
   "cell_type": "markdown",
   "metadata": {},
   "source": [
    "## Relational Database Management System (RDBMS) Transactions\n",
    "\n",
    "RDBMS are designed to support **read, write, and update** transactions, in addition to operations that **create tables**, etc. In practice, for a database to remain consistent, these transactions have to guarantee [certain properties](https://en.wikipedia.org/wiki/ACID). We'll largely ignore updates, creating tables, etc. – these are operations that you'll likely need if you build a web-application. For the purpose of our data science class, we'll stick to reading/querying for data, as we want to learn **how to get data out of a database**. You can learn more about databases in CS 6530 or the undergrad version CS 5530."
   ]
  },
  {
   "cell_type": "markdown",
   "metadata": {},
   "source": [
    "## SQL - The Structured Query Language\n",
    "\n",
    "\n",
    "[SQL](https://en.wikipedia.org/wiki/SQL) is a domain specific language to execute the transactions described above. We'll look mainly at queries to read and aggregate data. \n",
    "\n",
    "Here is a very simple query:\n",
    "\n",
    "```SQL\n",
    "SELECT * FROM products\n",
    "```\n",
    "\n",
    "This statement selects and retreives all rows (`*`) from the table `products`.\n",
    "\n",
    "We can restrict the number of lines to retrieve with a `WHERE` clause:\n",
    "\n",
    "```SQL\n",
    "SELECT * FROM products WHERE 'Price' > 100\n",
    "```\n",
    "\n",
    "This retrieves all the rows where the price is higher than 100. \n",
    "\n",
    "We'll go through more specific SQL statements on real examples. You can learn more about SQL [online](https://www.codecademy.com/learn/learn-sql).\n"
   ]
  },
  {
   "cell_type": "markdown",
   "metadata": {},
   "source": [
    "## SQLite\n",
    "\n",
    "Most database management systems are implemented as client-server systems, i.e., the database is hosted on a dedicated server where multiple users can read and write. Examples are [PostgreSQL](https://www.postgresql.org/), [MySQL](https://www.mysql.com/) or [Oracle](https://www.oracle.com/database/index.html). These database management systems are fast and can handle multiple users withouth causing conflicts. However, they require a separate server and installation, so we'll use [SQLite](https://sqlite.org/), a database that works for individual users and stores the whole database in a single file. SQLite is widely used for single-user cases and will serve our purposes. \n",
    "\n",
    "While these different databases have different features and performance characteristics, they all support SQL, so the skills you will learn here transfer widely.\n",
    "\n",
    "We'll also use the [sqlite python interface](https://docs.python.org/3/library/sqlite3.html)."
   ]
  },
  {
   "cell_type": "markdown",
   "metadata": {},
   "source": [
    "## Sample Database\n",
    "\n",
    "This tutorial uses the SQLite sample database found [here](http://www.sqlitetutorial.net/sqlite-sample-database/).\n",
    "\n",
    "Here is a chart of the database schema: \n",
    "\n",
    "![](database_schema.png)"
   ]
  },
  {
   "cell_type": "markdown",
   "metadata": {},
   "source": [
    " * `employees` table stores employees data such as employee id, last name, first name, etc. It also has a field named `ReportsTo` to specify who reports to whom.\n",
    " * `customers` table stores customers data.\n",
    " * `invoices & invoice_items` tables: these two tables store invoice data. The invoices table stores invoice header data and the invoice_items table stores the invoice line items data.\n",
    " * `artists` table stores artists data. It is a simple table that contains only artist id and name.\n",
    " * `albums` table stores data about a list of tracks. Each album belongs to one artist. However, one artist may have multiple albums.\n",
    " * `media_types` table stores media types such as MPEG audio file, ACC audio file, etc.\n",
    " * `genres` table stores music types such as rock, jazz, metal, etc.\n",
    " * `tracks` table store the data of songs. Each track belongs to one album.\n",
    " * `playlists` & `playlist_track` tables: playlists table store data about playlists. Each playlist contains a list of tracks. Each track may belong to multiple playlists. The relationship between the playlists table and tracks table is many-to-many. The playlist_track table is used to reflect this relationship.\n",
    " \n",
    "The diagram above highlights the **primary keys** in each table and the relationships, using **foreign keys** to each other table. Note that `employees` has a self-reference, to capture the reports-to relationship."
   ]
  },
  {
   "cell_type": "markdown",
   "metadata": {},
   "source": [
    "## Querying the Table"
   ]
  },
  {
   "cell_type": "code",
   "execution_count": null,
   "metadata": {},
   "outputs": [],
   "source": [
    "import pandas as pd\n",
    "import sqlite3 as sq\n",
    "\n",
    "# we connect to the database, which - in the case of sqlite - is a local file\n",
    "conn = sq.connect(\"./chinook.db\")\n",
    "# we retreive the \"cursor\" on the database.\n",
    "c = conn.cursor()\n",
    "\n",
    "# now we can execute a SQL statement\n",
    "c.execute(\"SELECT * FROM albums\")\n",
    "# and print the first line from the result\n",
    "print(c.fetchone())"
   ]
  },
  {
   "cell_type": "markdown",
   "metadata": {},
   "source": [
    "Here, we used a cursor for accessing the data. To retrieve data after executing a SELECT statement, you can either treat the cursor as an iterator, call the cursor’s `fetchone()` method to retrieve a single matching row, or call `fetchall()` to get a list of the matching rows.\n",
    "\n",
    "This is how you use it as an iterator: "
   ]
  },
  {
   "cell_type": "code",
   "execution_count": null,
   "metadata": {},
   "outputs": [],
   "source": [
    "for row in c:\n",
    "    print(row)"
   ]
  },
  {
   "cell_type": "markdown",
   "metadata": {},
   "source": [
    "And here we retrieve all the data at once:"
   ]
  },
  {
   "cell_type": "code",
   "execution_count": null,
   "metadata": {},
   "outputs": [],
   "source": [
    "c.execute(\"SELECT * FROM albums\")\n",
    "c.fetchall()"
   ]
  },
  {
   "cell_type": "markdown",
   "metadata": {},
   "source": [
    "## SQL and Pandas"
   ]
  },
  {
   "cell_type": "markdown",
   "metadata": {},
   "source": [
    "An alternative approach that fits well into our previous workflows is to use pandas to store the table directly, using the [`read_sql()`](http://pandas.pydata.org/pandas-docs/stable/generated/pandas.read_sql.html) function:"
   ]
  },
  {
   "cell_type": "code",
   "execution_count": null,
   "metadata": {},
   "outputs": [],
   "source": [
    "# this is similar to the read_csv()function\n",
    "pd.read_sql(\"\"\"SELECT * FROM albums\"\"\", conn).head()"
   ]
  },
  {
   "cell_type": "markdown",
   "metadata": {},
   "source": [
    "This, of course, works only for reading data, but we'll use it for now. "
   ]
  },
  {
   "cell_type": "markdown",
   "metadata": {},
   "source": [
    "## Selective Results"
   ]
  },
  {
   "cell_type": "markdown",
   "metadata": {},
   "source": [
    "When we **specify individual columns** instead of using the `*`, we get only those columns:"
   ]
  },
  {
   "cell_type": "code",
   "execution_count": null,
   "metadata": {},
   "outputs": [],
   "source": [
    "pd.read_sql(\"\"\"SELECT Title FROM albums\"\"\", conn).head()"
   ]
  },
  {
   "cell_type": "markdown",
   "metadata": {},
   "source": [
    "Here, we've used head to display a short list, but we can also do that in the SQL query with the `LIMIT` keyword. Of course, in this case, the data will actually be limited: "
   ]
  },
  {
   "cell_type": "code",
   "execution_count": null,
   "metadata": {},
   "outputs": [],
   "source": [
    "pd.read_sql(\"\"\"SELECT Title FROM albums LIMIT 3\"\"\", conn).head()"
   ]
  },
  {
   "cell_type": "markdown",
   "metadata": {},
   "source": [
    "We can run more **restrictive queries** with the `WHERE` keyword:"
   ]
  },
  {
   "cell_type": "code",
   "execution_count": null,
   "metadata": {},
   "outputs": [],
   "source": [
    "# note that the triple quotes allow us to break lines\n",
    "pd.read_sql(\"\"\"SELECT * FROM albums \n",
    "                    WHERE Title = 'Big Ones'\"\"\", conn)"
   ]
  },
  {
   "cell_type": "markdown",
   "metadata": {},
   "source": [
    "Legal operations are: \n",
    "\n",
    " * `=` is.\n",
    " * `<>` is not\n",
    " * Numerical comparisons: `>, >=, <, <=`\n",
    " * `IN` allows you to pass a list of options.\n",
    " * `BETWEEN` allows you to define a range.\n",
    " * `LIKE` can be used with pattern matching, similar to regular expressions. \n",
    " * `IS NULL` or `IS NOT NULL` test for empty values. "
   ]
  },
  {
   "cell_type": "markdown",
   "metadata": {},
   "source": [
    "The `is not` operator:"
   ]
  },
  {
   "cell_type": "code",
   "execution_count": null,
   "metadata": {},
   "outputs": [],
   "source": [
    "pd.read_sql(\"\"\"SELECT * FROM albums \n",
    "                    WHERE Title <> 'Big Ones'\"\"\", conn).head(10)"
   ]
  },
  {
   "cell_type": "code",
   "execution_count": null,
   "metadata": {},
   "outputs": [],
   "source": [
    "pd.read_sql(\"\"\"Select * FROM invoices WHERE Total > 10\"\"\", conn)"
   ]
  },
  {
   "cell_type": "markdown",
   "metadata": {},
   "source": [
    "The `BETWEEN` keyword:"
   ]
  },
  {
   "cell_type": "code",
   "execution_count": null,
   "metadata": {},
   "outputs": [],
   "source": [
    "pd.read_sql(\"\"\"Select * FROM invoices WHERE Total BETWEEN 15 and 20\"\"\", conn)"
   ]
  },
  {
   "cell_type": "markdown",
   "metadata": {},
   "source": [
    "The `IN` keyword:"
   ]
  },
  {
   "cell_type": "code",
   "execution_count": null,
   "metadata": {},
   "outputs": [],
   "source": [
    "pd.read_sql(\"\"\"Select * FROM invoices WHERE BillingCity in ('Chicago', 'London', 'Berlin')\"\"\", conn)"
   ]
  },
  {
   "cell_type": "markdown",
   "metadata": {},
   "source": [
    "Expressions with `LIKE`:"
   ]
  },
  {
   "cell_type": "code",
   "execution_count": null,
   "metadata": {},
   "outputs": [],
   "source": [
    "# starts with a C\n",
    "pd.read_sql(\"\"\"Select * FROM invoices WHERE BillingCity LIKE 'C%'\"\"\", conn)"
   ]
  },
  {
   "cell_type": "code",
   "execution_count": null,
   "metadata": {},
   "outputs": [],
   "source": [
    "# ends with rt\n",
    "pd.read_sql(\"\"\"Select * FROM invoices WHERE BillingCity LIKE '%rt'\"\"\", conn)"
   ]
  },
  {
   "cell_type": "markdown",
   "metadata": {},
   "source": [
    "We can use `ORDER BY` to sort the output."
   ]
  },
  {
   "cell_type": "code",
   "execution_count": null,
   "metadata": {},
   "outputs": [],
   "source": [
    "pd.read_sql(\"\"\"SELECT * FROM albums \n",
    "                    ORDER BY title\"\"\", conn)"
   ]
  },
  {
   "cell_type": "markdown",
   "metadata": {},
   "source": [
    "### Exercise 1: Simple Queries\n",
    "\n",
    "1. List all the rows in the genres table.\n",
    "2. List only the genre names (nothing else) in the table.\n",
    "3. List the genre names ordered by name.\n",
    "4. List the genre entries with IDs between 13 and 17.\n",
    "5. List the genre entries that start with an S.\n",
    "6. List the GenreIds of Rock, Jazz, and Reggae (in one query)."
   ]
  },
  {
   "cell_type": "code",
   "execution_count": null,
   "metadata": {
    "collapsed": true
   },
   "outputs": [],
   "source": []
  },
  {
   "cell_type": "markdown",
   "metadata": {},
   "source": [
    "## Referencing and Renaming"
   ]
  },
  {
   "cell_type": "markdown",
   "metadata": {},
   "source": [
    "Not very exciting on it's own, but we'll want to referene exact names and rename them soon. Here we're using a fully qualified name `tracks.Name` to refer to the name column in the tracks table, and then rename it as `TrackName`."
   ]
  },
  {
   "cell_type": "code",
   "execution_count": null,
   "metadata": {},
   "outputs": [],
   "source": [
    "pd.read_sql(\"\"\"SELECT tracks.Name as TrackName FROM tracks;\"\"\", conn).head()"
   ]
  },
  {
   "cell_type": "markdown",
   "metadata": {},
   "source": [
    "## Joining Tables\n",
    "\n",
    "There are many ways to aggregate and group by with SQL, and we won't be able to cover them in detail. We'll use a simple example for an `INNER JOIN` to resolve a foreign key relationship here.\n",
    "\n",
    "We want to create a long table that contains both track titles and for each track the album title. Let's take a looks at the tracks table:"
   ]
  },
  {
   "cell_type": "code",
   "execution_count": null,
   "metadata": {},
   "outputs": [],
   "source": [
    "pd.read_sql(\"\"\"SELECT * FROM tracks;\"\"\", conn).head()"
   ]
  },
  {
   "cell_type": "markdown",
   "metadata": {},
   "source": [
    "And the albums table:"
   ]
  },
  {
   "cell_type": "code",
   "execution_count": null,
   "metadata": {},
   "outputs": [],
   "source": [
    "pd.read_sql(\"\"\"SELECT * FROM albums;\"\"\", conn).head(5)"
   ]
  },
  {
   "cell_type": "markdown",
   "metadata": {},
   "source": [
    "We can see that AlbumID appears in both tables. This is the relationship we care about:\n",
    "\n",
    "![](albums_tracks_tables.jpg)\n",
    "\n",
    "An INNER JOIN simply merges tables based on a primary key / foreign key relationship. \n",
    "\n",
    "Here is an example:"
   ]
  },
  {
   "cell_type": "code",
   "execution_count": null,
   "metadata": {},
   "outputs": [],
   "source": [
    "pd.read_sql(\"\"\"SELECT\n",
    " trackid,\n",
    " tracks.name as Track,\n",
    " albums.title as Album\n",
    "FROM\n",
    " tracks\n",
    "INNER JOIN albums ON albums.albumid = tracks.albumid\"\"\", conn).head(30)"
   ]
  },
  {
   "cell_type": "markdown",
   "metadata": {},
   "source": [
    "Let's take this statement apart:\n",
    "\n",
    "```SQL\n",
    "SELECT\n",
    " trackid,\n",
    " tracks.name as Track,\n",
    " albums.title as Album\n",
    "```\n",
    "Here, we chose what to select, and we also rename the columns for presentation purposes with the `as` statement. \n",
    "\n",
    "```SQL\n",
    "FROM\n",
    " tracks\n",
    "INNER JOIN albums ON albums.albumid = tracks.albumid;\n",
    "```\n",
    "\n",
    "This is where the magic happens: we say that the tracks and albums table should be joined on the `albums.albumid = tracks.albumid` relationship."
   ]
  },
  {
   "cell_type": "markdown",
   "metadata": {},
   "source": [
    "Using INNER JOIN, you can construct flat tables out of databases that you then can use in the data science process. SQL is of course much more powerful, you can do mathematical operations, group-by/aggregates, etc. However, we can do most of this on a dataframe also, but doing a join like that would be rather painful without the INNER JOIN SQL statement."
   ]
  },
  {
   "cell_type": "markdown",
   "metadata": {},
   "source": [
    "Next, we want to also add the artist name. We can just append another `INNER JOIN` statement."
   ]
  },
  {
   "cell_type": "code",
   "execution_count": null,
   "metadata": {},
   "outputs": [],
   "source": [
    "pd.read_sql(\"\"\"SELECT\n",
    " tracks.name as Track,\n",
    " albums.title as Album,\n",
    " artists.name as Artist \n",
    "FROM\n",
    " tracks\n",
    "INNER JOIN albums ON albums.albumid = tracks.albumid\n",
    "INNER JOIN artists ON artists.artistid = albums.artistid\"\"\", conn).head(40)"
   ]
  },
  {
   "cell_type": "markdown",
   "metadata": {},
   "source": [
    "Now we can combine that with a `WHERE` condition to get a more specific result. Here we're looking at all the Rolling Stones albums in this dataset. "
   ]
  },
  {
   "cell_type": "code",
   "execution_count": null,
   "metadata": {},
   "outputs": [],
   "source": [
    "pd.read_sql(\"\"\"SELECT\n",
    " tracks.name as Track,\n",
    " albums.title as Album,\n",
    " artists.name as Artist \n",
    "FROM\n",
    " tracks\n",
    "INNER JOIN albums ON albums.albumid = tracks.albumid\n",
    "INNER JOIN artists ON artists.artistid = albums.artistid\n",
    "WHERE artists.name = 'The Rolling Stones'\"\"\", conn).head(40)"
   ]
  },
  {
   "cell_type": "markdown",
   "metadata": {},
   "source": [
    "## Group By\n",
    "\n",
    "We've seen group by before for dataframes, and we could just use pandas' group by since we're using a dataframe anyways. However, it's useful to understand how group by works in SQL as it can be much more efficient to just get the right data out in the first place. "
   ]
  },
  {
   "cell_type": "code",
   "execution_count": null,
   "metadata": {},
   "outputs": [],
   "source": [
    "pd.read_sql(\"\"\"SELECT\n",
    " albumid,\n",
    " COUNT(trackid) as '# Tracks'\n",
    "FROM\n",
    " tracks\n",
    "GROUP BY\n",
    " albumid;\"\"\", conn).head()"
   ]
  },
  {
   "cell_type": "markdown",
   "metadata": {},
   "source": [
    "These are accurate counts, but now we want to combined them with album titles. We first do the INNER JOIN and then the GROUP BY. "
   ]
  },
  {
   "cell_type": "code",
   "execution_count": null,
   "metadata": {},
   "outputs": [],
   "source": [
    "pd.read_sql(\"\"\"SELECT\n",
    " tracks.albumid,\n",
    " albums.title as Album,\n",
    " COUNT(tracks.trackid)\n",
    "FROM\n",
    " tracks\n",
    "INNER JOIN albums ON albums.albumid = tracks.albumid\n",
    "GROUP BY\n",
    " tracks.albumid\"\"\", conn).head(30)"
   ]
  },
  {
   "cell_type": "markdown",
   "metadata": {},
   "source": [
    "We can combine this with filters, using `HAVING COUNT`."
   ]
  },
  {
   "cell_type": "code",
   "execution_count": null,
   "metadata": {},
   "outputs": [],
   "source": [
    "pd.read_sql(\"\"\"SELECT\n",
    " tracks.albumid,\n",
    " albums.title as Album,\n",
    " COUNT(tracks.trackid)\n",
    "FROM\n",
    " tracks\n",
    "INNER JOIN albums ON albums.albumid = tracks.albumid\n",
    "GROUP BY\n",
    " tracks.albumid\n",
    "HAVING COUNT(tracks.trackid) > 15;\"\"\", conn).head(30)"
   ]
  },
  {
   "cell_type": "markdown",
   "metadata": {},
   "source": [
    "Here are several other aggregation functions, `AVG, MAX` and `SUM`. We also do some simple math to convert miliseconds into minutes for the average: "
   ]
  },
  {
   "cell_type": "code",
   "execution_count": null,
   "metadata": {},
   "outputs": [],
   "source": [
    "pd.read_sql(\"\"\"SELECT\n",
    " tracks.albumid,\n",
    " albums.title as Album,\n",
    " COUNT(tracks.trackid),\n",
    " AVG(tracks.Milliseconds)/1000/60 as 'Average(minutes)',\n",
    " MAX(tracks.Milliseconds),\n",
    " SUM(tracks.Milliseconds)\n",
    "FROM\n",
    " tracks\n",
    "INNER JOIN albums ON albums.albumid = tracks.albumid\n",
    "GROUP BY\n",
    " tracks.albumid\n",
    "ORDER BY \n",
    "  AVG(tracks.Milliseconds) DESC\"\"\", conn).head(30)"
   ]
  },
  {
   "cell_type": "markdown",
   "metadata": {},
   "source": [
    "## Exercise 2: Joining\n",
    "\n",
    "1. Create a table that contains track names, genre name and genre ID for each track. Hint: the table is sorted by genres, look at the tail of the dataframe to make sure it works correctly.\n",
    "2. Create a table that contains the counts of tracks in a genre by using the GenreID.\n",
    "3. Create a table that contains the genre name and the count of tracks in that genre.\n",
    "4. Sort the previous table by the count. Which are the biggest genres? Hint: the DESC keyword can be added at the end of the sorting expression."
   ]
  },
  {
   "cell_type": "code",
   "execution_count": null,
   "metadata": {
    "collapsed": true
   },
   "outputs": [],
   "source": []
  },
  {
   "cell_type": "markdown",
   "metadata": {},
   "source": [
    "## Security"
   ]
  },
  {
   "cell_type": "markdown",
   "metadata": {},
   "source": [
    "We can use python variables to specify the columns. However, you typically shouldn't trust the content of the variables, especially in a user facing system. Imagine, you read in which attribute to query for from a website field where a user can specify a name. The user could use this to attack your SQL server using [SQL Injection](https://en.wikipedia.org/wiki/SQL_injection). For example, for this statement:"
   ]
  },
  {
   "cell_type": "code",
   "execution_count": null,
   "metadata": {},
   "outputs": [],
   "source": [
    "title = \"Big Ones\"\n",
    "# executescript runs multiple sql statements. \n",
    "# This isn't very helpful for quering, but can be great for other operations.\n",
    "c.executescript(\"\"\"SELECT * FROM albums WHERE Title = '\"\"\" + title + \"'\")"
   ]
  },
  {
   "cell_type": "markdown",
   "metadata": {},
   "source": [
    "Let's look at the tables in the database:"
   ]
  },
  {
   "cell_type": "code",
   "execution_count": null,
   "metadata": {},
   "outputs": [],
   "source": [
    "pd.read_sql(\"\"\"SELECT name FROM sqlite_master\n",
    "            WHERE type='table'\n",
    "            ORDER BY name;\n",
    "            \"\"\", conn)"
   ]
  },
  {
   "cell_type": "markdown",
   "metadata": {},
   "source": [
    "Now, if we were to read `title` from a user, and adversarial user could write: \n",
    "\n",
    "```SQL\n",
    "\"a';DROP TABLE invoice_items;\"\n",
    "```\n",
    "\n",
    "This selects everything from table \"a\", then concludes the SQL command with `;`, and then executed the next SQL command `DROP TABLE invoice_items`, which – you guessed it – deletes the table invoice_items."
   ]
  },
  {
   "cell_type": "code",
   "execution_count": null,
   "metadata": {},
   "outputs": [],
   "source": [
    "title = \"a';DROP TABLE invoice_items;\"\n",
    "print(\"\"\"SELECT * FROM albums WHERE Title = '\"\"\" + title + \"'\")\n",
    "c.executescript(\"\"\"SELECT * FROM albums WHERE Title = '\"\"\" + title + \"'\")"
   ]
  },
  {
   "cell_type": "markdown",
   "metadata": {},
   "source": [
    "This throws an error, but the table is gone:"
   ]
  },
  {
   "cell_type": "code",
   "execution_count": null,
   "metadata": {},
   "outputs": [],
   "source": [
    "pd.read_sql(\"\"\"SELECT name FROM sqlite_master\n",
    "            WHERE type='table'\n",
    "            ORDER BY name;\n",
    "            \"\"\", conn)"
   ]
  },
  {
   "cell_type": "markdown",
   "metadata": {},
   "source": [
    "Instead, you should use a ? for substitution, and pass in a tuple. This will make sure that no additional statements will be executed. "
   ]
  },
  {
   "cell_type": "code",
   "execution_count": null,
   "metadata": {},
   "outputs": [],
   "source": [
    "title = (\"a';DROP TABLE invoice_items;\",)\n",
    "# this will result in an error\n",
    "c.executescript('SELECT * FROM albums WHERE title=?', title)"
   ]
  },
  {
   "cell_type": "markdown",
   "metadata": {},
   "source": [
    "Here is a working example with safe code:"
   ]
  },
  {
   "cell_type": "code",
   "execution_count": null,
   "metadata": {},
   "outputs": [],
   "source": [
    "title = (\"Big Ones\",)\n",
    "# this will result in an error\n",
    "c.execute('SELECT * FROM albums WHERE title=?', title)\n",
    "c.fetchone()"
   ]
  },
  {
   "cell_type": "markdown",
   "metadata": {},
   "source": [
    "Of course that's not all to say about making your code secure, but it's a start! "
   ]
  },
  {
   "cell_type": "markdown",
   "metadata": {},
   "source": [
    "![](exploits_of_a_mom.png)"
   ]
  }
 ],
 "metadata": {
  "anaconda-cloud": {},
  "kernelspec": {
   "display_name": "Python 3",
   "language": "python",
   "name": "python3"
  },
  "language_info": {
   "codemirror_mode": {
    "name": "ipython",
    "version": 3
   },
   "file_extension": ".py",
   "mimetype": "text/x-python",
   "name": "python",
   "nbconvert_exporter": "python",
   "pygments_lexer": "ipython3",
   "version": "3.6.3"
  }
 },
 "nbformat": 4,
 "nbformat_minor": 1
}
