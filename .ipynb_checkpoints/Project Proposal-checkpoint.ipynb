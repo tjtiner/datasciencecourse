{
 "cells": [
  {
   "cell_type": "markdown",
   "metadata": {},
   "source": [
    "**Basic Info**\n",
    "+ Project Name: NBA Rookie Success Model\n",
    "+ Names: Travis Tiner and Jake Kerr\n",
    "+ Email Addresses: u0769566@utah.edu, and \n",
    "+ UID's: u0769566, and "
   ]
  },
  {
   "cell_type": "markdown",
   "metadata": {},
   "source": [
    "**Background and Motivation**<br>\n",
    "We enjoy sports, specifically the NBA. I have heard about teams putting players into models to predict potential, and thought it would be interesting to create something similar to that.\n"
   ]
  },
  {
   "cell_type": "markdown",
   "metadata": {},
   "source": [
    "**Project Objectives**<br>\n",
    "To train a model that can, with some level of accuracy, predict what caliber of NBA player someone will be by looking at their rookie year statistics.\n"
   ]
  },
  {
   "cell_type": "markdown",
   "metadata": {},
   "source": [
    "**Data**<br>\n",
    "We will be getting our data from basketball-reference.com. We will be scraping this website for players' rookie year stats, as well as their career long stats. Due to changes in the NBA, including the addition of the 3-pt line, we will only be looking at players that played in the 1979-80 season and later."
   ]
  },
  {
   "cell_type": "markdown",
   "metadata": {},
   "source": [
    "**Data Processing**<br>\n",
    "We will be scraping basketball-reference.com to collect our data. We are especially curious about players' rookie year stats, as well as some information that tells us what kind of career they had in the NBA."
   ]
  },
  {
   "cell_type": "markdown",
   "metadata": {},
   "source": [
    "**Exploratory Analysis**"
   ]
  },
  {
   "cell_type": "markdown",
   "metadata": {},
   "source": [
    "**Analysis Methodology**"
   ]
  },
  {
   "cell_type": "markdown",
   "metadata": {},
   "source": [
    "**Project Schedule**"
   ]
  },
  {
   "cell_type": "code",
   "execution_count": null,
   "metadata": {
    "collapsed": true
   },
   "outputs": [],
   "source": []
  }
 ],
 "metadata": {
  "kernelspec": {
   "display_name": "Python 3",
   "language": "python",
   "name": "python3"
  },
  "language_info": {
   "codemirror_mode": {
    "name": "ipython",
    "version": 3
   },
   "file_extension": ".py",
   "mimetype": "text/x-python",
   "name": "python",
   "nbconvert_exporter": "python",
   "pygments_lexer": "ipython3",
   "version": "3.6.3"
  }
 },
 "nbformat": 4,
 "nbformat_minor": 2
}
