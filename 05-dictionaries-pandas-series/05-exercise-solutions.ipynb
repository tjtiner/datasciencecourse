{
 "cells": [
  {
   "cell_type": "markdown",
   "metadata": {},
   "source": [
    "# Lecture 5: Exercise Solutions"
   ]
  },
  {
   "cell_type": "markdown",
   "metadata": {
    "collapsed": true
   },
   "source": [
    "## Exercise 2: Sets\n",
    "\n",
    "Write a function that finds the overlap of two sets and prints them.\n",
    "Initialize two sets, e.g., with values {13, 25, 37, 45, 13} and {14, 25, 38, 8, 45} and call this function with them."
   ]
  },
  {
   "cell_type": "markdown",
   "metadata": {},
   "source": [
    "The manual way to do this: "
   ]
  },
  {
   "cell_type": "code",
   "execution_count": 12,
   "metadata": {},
   "outputs": [
    {
     "name": "stdout",
     "output_type": "stream",
     "text": [
      "{25, 45}\n"
     ]
    }
   ],
   "source": [
    "def overlap(set1, set2):\n",
    "    set_overlap = set()\n",
    "    for k in set1:\n",
    "        if k in set2: \n",
    "            set_overlap.add(k)\n",
    "    print (set_overlap)\n",
    "    \n",
    "set1 = {13, 25, 37, 45, 13} \n",
    "set2 = {14, 25, 38, 8, 45} \n",
    "\n",
    "overlap(set1, set2)"
   ]
  },
  {
   "cell_type": "markdown",
   "metadata": {},
   "source": [
    "The better way, knowing about the methods the set provides:"
   ]
  },
  {
   "cell_type": "code",
   "execution_count": 13,
   "metadata": {},
   "outputs": [
    {
     "name": "stdout",
     "output_type": "stream",
     "text": [
      "{25, 45}\n"
     ]
    }
   ],
   "source": [
    "def intersection(set1, set2):\n",
    "    print (set1.intersection(set2))\n",
    "\n",
    "intersection(set1, set2)   "
   ]
  },
  {
   "cell_type": "markdown",
   "metadata": {},
   "source": [
    "## Exercise 3: Dictionaries\n",
    "\n",
    " * Create a dictionary with two-letter codes of two US states and the full names, e.g., UT: Utah, NY: New York\n",
    " * After initially creating the dictionary, add two more states to the dictionary.\n",
    " * Create a second dictionary that maps the state codes to an array ofities in that state, e.g., UT: [Salt Lake City, Ogden, Provo, St. \n",
    " \n",
    " George]. \n",
    "ut  * Write a function that takes a state code and prints the full name of the state and lists the cities in that state."
   ]
  },
  {
   "cell_type": "code",
   "execution_count": 14,
   "metadata": {},
   "outputs": [
    {
     "name": "stdout",
     "output_type": "stream",
     "text": [
      "Utah: ['Salt Lake City', 'Ogden', 'Provo', 'St. George']\n",
      "New York: ['Albany', 'New York City', 'Buffalo']\n",
      "No information for state code WA\n"
     ]
    }
   ],
   "source": [
    "\n",
    "ut = \"UT\"\n",
    "states = {ut:\"Utah\", \"NY\":\"New York\"}\n",
    "states[\"CA\"] = \"California\"\n",
    "states[\"MA\"] = \"Massachusetts\"\n",
    "\n",
    "cities = {ut:[\"Salt Lake City\", \"Ogden\", \"Provo\", \"St. George\"], \"NY\":[\"Albany\", \"New York City\", \"Buffalo\"]}\n",
    "\n",
    "def print_state_info(code, states):\n",
    "    if (code in states and code in cities): \n",
    "        print (states[code] + \": \"+ str(cities[code]))\n",
    "    else:\n",
    "        print (\"No information for state code \" + code)\n",
    "        \n",
    "print_state_info(\"UT\")\n",
    "print_state_info(\"NY\")\n",
    "print_state_info(\"WA\")"
   ]
  },
  {
   "cell_type": "markdown",
   "metadata": {
    "collapsed": true
   },
   "source": [
    "## Exercise 5: Pandas Series"
   ]
  },
  {
   "cell_type": "markdown",
   "metadata": {},
   "source": [
    "Create a new pandas series with the lists given below that contain NFL team names and the number of Super Bowl titles they won. Use the names as indices, the wins as the data.\n",
    "\n",
    " * Once the list is created, sort the series alphabetically by index. \n",
    " * Print an overview of the statistical properties of the series. What's the mean number of wins?\n",
    " * Filter out all teams that have won less than four Super Bowl titles\n",
    " * A football team has 45 players. Update the series so that instead of the number of titles, it reflects the number of Super Bowl rings given to the players. \n",
    " * Assume that each ring costs \\$ 30,000. Update the series so that it contains a string of the dollar amount including the \\$ sign. For the Steelers, for example, this would correspond to: \n",
    " ```\n",
    " Pittsburgh Steelers             $ 8100000\n",
    " ```\n"
   ]
  },
  {
   "cell_type": "code",
   "execution_count": 4,
   "metadata": {
    "collapsed": true
   },
   "outputs": [],
   "source": [
    "teams = [\"Pittsburgh Steelers\",\n",
    "\"Dallas Cowboys\",\n",
    "\"San Francisco 49ers\",\n",
    "\"New England Patriots\",\n",
    "\"Green Bay Packers\",\n",
    "\"New York Giants\",\n",
    "\"Denver Broncos\",\n",
    "\"Oakland/Los Angeles Raiders\",\n",
    "\"Washington Redskins\",\n",
    "\"Miami Dolphins\",\n",
    "\"Baltimore/Indianapolis Colts\",\n",
    "\"Baltimore Ravens\"]\n",
    "wins = [6,5,5,4,4,4,3,3,3,2,2,2]"
   ]
  },
  {
   "cell_type": "code",
   "execution_count": 5,
   "metadata": {
    "collapsed": true
   },
   "outputs": [],
   "source": [
    "import pandas as pd"
   ]
  },
  {
   "cell_type": "code",
   "execution_count": 6,
   "metadata": {},
   "outputs": [
    {
     "data": {
      "text/plain": [
       "Pittsburgh Steelers             6\n",
       "Dallas Cowboys                  5\n",
       "San Francisco 49ers             5\n",
       "New England Patriots            4\n",
       "Green Bay Packers               4\n",
       "New York Giants                 4\n",
       "Denver Broncos                  3\n",
       "Oakland/Los Angeles Raiders     3\n",
       "Washington Redskins             3\n",
       "Miami Dolphins                  2\n",
       "Baltimore/Indianapolis Colts    2\n",
       "Baltimore Ravens                2\n",
       "Name: Superbowl-winning NFL Teams, dtype: int64"
      ]
     },
     "execution_count": 6,
     "metadata": {},
     "output_type": "execute_result"
    }
   ],
   "source": [
    "winning_teams = pd.Series(wins, name=\"Superbowl-winning NFL Teams\", index=teams)\n",
    "winning_teams"
   ]
  },
  {
   "cell_type": "code",
   "execution_count": 7,
   "metadata": {},
   "outputs": [
    {
     "data": {
      "text/plain": [
       "Baltimore Ravens                2\n",
       "Baltimore/Indianapolis Colts    2\n",
       "Dallas Cowboys                  5\n",
       "Denver Broncos                  3\n",
       "Green Bay Packers               4\n",
       "Miami Dolphins                  2\n",
       "New England Patriots            4\n",
       "New York Giants                 4\n",
       "Oakland/Los Angeles Raiders     3\n",
       "Pittsburgh Steelers             6\n",
       "San Francisco 49ers             5\n",
       "Washington Redskins             3\n",
       "Name: Superbowl-winning NFL Teams, dtype: int64"
      ]
     },
     "execution_count": 7,
     "metadata": {},
     "output_type": "execute_result"
    }
   ],
   "source": [
    "winning_teams.sort_index()"
   ]
  },
  {
   "cell_type": "code",
   "execution_count": 8,
   "metadata": {},
   "outputs": [
    {
     "data": {
      "text/plain": [
       "count    12.000000\n",
       "mean      3.583333\n",
       "std       1.311372\n",
       "min       2.000000\n",
       "25%       2.750000\n",
       "50%       3.500000\n",
       "75%       4.250000\n",
       "max       6.000000\n",
       "Name: Superbowl-winning NFL Teams, dtype: float64"
      ]
     },
     "execution_count": 8,
     "metadata": {},
     "output_type": "execute_result"
    }
   ],
   "source": [
    "winning_teams.describe()"
   ]
  },
  {
   "cell_type": "code",
   "execution_count": 9,
   "metadata": {},
   "outputs": [
    {
     "data": {
      "text/plain": [
       "Pittsburgh Steelers     6\n",
       "Dallas Cowboys          5\n",
       "San Francisco 49ers     5\n",
       "New England Patriots    4\n",
       "Green Bay Packers       4\n",
       "New York Giants         4\n",
       "Name: Superbowl-winning NFL Teams, dtype: int64"
      ]
     },
     "execution_count": 9,
     "metadata": {},
     "output_type": "execute_result"
    }
   ],
   "source": [
    "winning_teams[winning_teams > 3]"
   ]
  },
  {
   "cell_type": "code",
   "execution_count": 10,
   "metadata": {},
   "outputs": [
    {
     "data": {
      "text/plain": [
       "Pittsburgh Steelers             270\n",
       "Dallas Cowboys                  225\n",
       "San Francisco 49ers             225\n",
       "New England Patriots            180\n",
       "Green Bay Packers               180\n",
       "New York Giants                 180\n",
       "Denver Broncos                  135\n",
       "Oakland/Los Angeles Raiders     135\n",
       "Washington Redskins             135\n",
       "Miami Dolphins                   90\n",
       "Baltimore/Indianapolis Colts     90\n",
       "Baltimore Ravens                 90\n",
       "Name: Superbowl-winning NFL Teams, dtype: int64"
      ]
     },
     "execution_count": 10,
     "metadata": {},
     "output_type": "execute_result"
    }
   ],
   "source": [
    "rings = winning_teams * 45\n",
    "rings"
   ]
  },
  {
   "cell_type": "code",
   "execution_count": 11,
   "metadata": {},
   "outputs": [
    {
     "data": {
      "text/plain": [
       "Pittsburgh Steelers             $ 8100000\n",
       "Dallas Cowboys                  $ 6750000\n",
       "San Francisco 49ers             $ 6750000\n",
       "New England Patriots            $ 5400000\n",
       "Green Bay Packers               $ 5400000\n",
       "New York Giants                 $ 5400000\n",
       "Denver Broncos                  $ 4050000\n",
       "Oakland/Los Angeles Raiders     $ 4050000\n",
       "Washington Redskins             $ 4050000\n",
       "Miami Dolphins                  $ 2700000\n",
       "Baltimore/Indianapolis Colts    $ 2700000\n",
       "Baltimore Ravens                $ 2700000\n",
       "Name: Superbowl-winning NFL Teams, dtype: object"
      ]
     },
     "execution_count": 11,
     "metadata": {},
     "output_type": "execute_result"
    }
   ],
   "source": [
    "def to_dollar(rings):\n",
    "  return \"$ \" + str(rings * 30000)\n",
    "\n",
    "rings.map(to_dollar)"
   ]
  }
 ],
 "metadata": {
  "anaconda-cloud": {},
  "kernelspec": {
   "display_name": "Python 3",
   "language": "python",
   "name": "python3"
  },
  "language_info": {
   "codemirror_mode": {
    "name": "ipython",
    "version": 3
   },
   "file_extension": ".py",
   "mimetype": "text/x-python",
   "name": "python",
   "nbconvert_exporter": "python",
   "pygments_lexer": "ipython3",
   "version": "3.6.3"
  }
 },
 "nbformat": 4,
 "nbformat_minor": 1
}
