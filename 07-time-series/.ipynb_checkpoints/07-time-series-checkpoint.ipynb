{
 "cells": [
  {
   "cell_type": "markdown",
   "metadata": {},
   "source": [
    "# MATH 4100: Temporal data analysis and applications to stock analysis\n",
    "*Curtis Miller*\n",
    "\n",
    "## Introduction\n",
    "\n",
    "This is a lecture for [MATH 4100/CS 5160: Introduction to Data Science](http://datasciencecourse.net/), offered at the University of Utah, introducing time series data analysis applied to finance.\n",
    "\n",
    "Advanced mathematics and statistics have been present in finance for some time. Prior to the 1980s, banking and finance were well-known for being \"boring\"; investment banking was distinct from commercial banking and the primary role of the industry was handling \"simple\" (at least in comparison to today) financial instruments, such as loans. Deregulation under the Regan administration, coupled with an influx of mathematical talent, transformed the industry from the \"boring\" business of banking to what it is today, and since then, finance has joined the other sciences as a motivation for mathematical research and advancement. For example one of the biggest recent achievements of mathematics was the derivation of the [Black-Scholes formula](https://en.wikipedia.org/wiki/Black%E2%80%93Scholes_model), which facilitated the pricing of stock options (a contract giving the holder the right to purchase or sell a stock at a particular price to the issuer of the option). That said, [bad statistical models, including the Black-Scholes formula, hold part of the blame for the 2008 financial crisis](https://www.theguardian.com/science/2012/feb/12/black-scholes-equation-credit-crunch).\n",
    "\n",
    "In recent years, computer science has joined advanced mathematics in revolutionizing finance and **trading**, the practice of buying and selling of financial assets for the purpose of making a profit. In recent years, trading has become dominated by computers; algorithms are responsible for making rapid split-second trading decisions faster than humans could make (so rapidly, [the speed at which light travels is a limitation when designing systems](http://www.nature.com/news/physics-in-finance-trading-at-the-speed-of-light-1.16872)). Additionally, [machine learning and data mining techniques are growing in popularity](http://www.ft.com/cms/s/0/9278d1b6-1e02-11e6-b286-cddde55ca122.html#axzz4G8daZxcl) in the financial sector, and likely will continue to do so. For example, **high-frequency trading (HFT)** is a branch of algorithmic trading where computers make thousands of trades in short periods of time, engaging in complex strategies such as statistical arbitrage and market making. While algorithms may outperform humans, the technology is still new and playing an increasing role in a famously turbulent, high-stakes arena. HFT was responsible for phenomena such as the [2010 flash crash](https://en.wikipedia.org/wiki/2010_Flash_Crash) and a [2013 flash crash](http://money.cnn.com/2013/04/24/investing/twitter-flash-crash/) prompted by a hacked [Associated Press tweet](http://money.cnn.com/2013/04/23/technology/security/ap-twitter-hacked/index.html?iid=EL) about an attack on the White House.\n",
    "\n",
    "This lecture, however, will not be about how to crash the stock market with bad mathematical models or trading algorithms. Instead, I intend to provide you with basic tools for handling and analyzing stock market data with Python. We will be using stock data as a first exposure to **time series data**, which is data considered dependent on the time it was observed (other examples of time series include temperature data, demand for energy on a power grid, Internet server load, and many, many others). I will also discuss moving averages, how to construct trading strategies using moving averages, how to formulate exit strategies upon entering a position, and how to evaluate a strategy with backtesting.\n",
    "\n",
    "**DISCLAIMER: THIS IS NOT FINANCIAL ADVICE!!! Furthermore, I have ZERO experience as a trader (a lot of this knowledge comes from a one-semester course on stock trading I took at Salt Lake Community College)! This is purely introductory knowledge, not enough to make a living trading stocks. People can and do lose money trading stocks, and you do so at your own risk!**\n",
    "\n",
    "## Preliminaries\n",
    "\n",
    "I will be using two packages, **quandl** and **pandas_datareader**, which are not installed with [Anaconda](https://www.anaconda.com/) if you are using it. To install these packages, run the following at the appropriate command prompt:\n",
    "\n",
    "    conda install quandl\n",
    "    conda install pandas-datareader\n",
    "\n",
    "## Getting and Visualizing Stock Data\n",
    "\n",
    "### Getting Data from Quandl\n",
    "\n",
    "Before we analyze stock data, we need to get it into some workable format. Stock data can be obtained from [Yahoo! Finance](http://finance.yahoo.com), [Google Finance](http://finance.google.com), or a number of other sources. These days I recommend getting data from [Quandl](https://www.quandl.com/), a provider of community-maintained financial and economic data. (Yahoo! Finance used to be the go-to source for good quality stock data, but the API was discontinued in 2017 and reliable data can no longer be obtained: see [this question/answer on StackExchange](https://quant.stackexchange.com/questions/35019/is-yahoo-finance-data-good-or-bad-now) for more details.)\n",
    "\n",
    "By default the `get()` function in **quandl** will return a **pandas** `DataFrame` containing the fetched data."
   ]
  },
  {
   "cell_type": "code",
   "execution_count": 1,
   "metadata": {},
   "outputs": [
    {
     "ename": "ModuleNotFoundError",
     "evalue": "No module named 'quandl'",
     "output_type": "error",
     "traceback": [
      "\u001b[0;31m---------------------------------------------------------------------------\u001b[0m",
      "\u001b[0;31mModuleNotFoundError\u001b[0m                       Traceback (most recent call last)",
      "\u001b[0;32m<ipython-input-1-f96963bf7e10>\u001b[0m in \u001b[0;36m<module>\u001b[0;34m()\u001b[0m\n\u001b[1;32m      1\u001b[0m \u001b[0;32mimport\u001b[0m \u001b[0mpandas\u001b[0m \u001b[0;32mas\u001b[0m \u001b[0mpd\u001b[0m\u001b[0;34m\u001b[0m\u001b[0m\n\u001b[0;32m----> 2\u001b[0;31m \u001b[0;32mimport\u001b[0m \u001b[0mquandl\u001b[0m\u001b[0;34m\u001b[0m\u001b[0m\n\u001b[0m\u001b[1;32m      3\u001b[0m \u001b[0;32mimport\u001b[0m \u001b[0mdatetime\u001b[0m\u001b[0;34m\u001b[0m\u001b[0m\n\u001b[1;32m      4\u001b[0m \u001b[0;34m\u001b[0m\u001b[0m\n\u001b[1;32m      5\u001b[0m \u001b[0;31m# We will look at stock prices over the past year, starting at January 1, 2016\u001b[0m\u001b[0;34m\u001b[0m\u001b[0;34m\u001b[0m\u001b[0m\n",
      "\u001b[0;31mModuleNotFoundError\u001b[0m: No module named 'quandl'"
     ]
    }
   ],
   "source": [
    "import pandas as pd\n",
    "import quandl\n",
    "import datetime\n",
    "\n",
    "# We will look at stock prices over the past year, starting at January 1, 2016\n",
    "start = datetime.datetime(2016,1,1)\n",
    "end = datetime.date.today()\n",
    "\n",
    "# Let's get Apple stock data; Apple's ticker symbol is AAPL\n",
    "# First argument is the series we want, second is the source (\"yahoo\" for Yahoo! Finance), third is the start date, fourth is the end date\n",
    "s = \"AAPL\"\n",
    "apple = quandl.get(\"WIKI/\" + s, start_date=start, end_date=end)\n",
    "\n",
    "type(apple)"
   ]
  },
  {
   "cell_type": "code",
   "execution_count": null,
   "metadata": {},
   "outputs": [],
   "source": [
    "apple.head()"
   ]
  },
  {
   "cell_type": "markdown",
   "metadata": {},
   "source": [
    "Let's briefly discuss this. **Open** is the price of the stock at the beginning of the trading day (it need not be the closing price of the previous trading day), **high** is the highest price of the stock on that trading day, **low** the lowest price of the stock on that trading day, and **close** the price of the stock at closing time. **Volume** indicates how many stocks were traded. **Adjusted** prices (such as the adjusted close) is the price of the stock that adjusts the price for corporate actions. While stock prices are considered to be set mostly by traders, **stock splits** (when the company makes each extant stock worth two and halves the price) and **dividends** (payout of company profits per share) also affect the price of a stock and should be accounted for.\n",
    "\n",
    "### Visualizing Stock Data\n",
    "\n",
    "Now that we have stock data we would like to visualize it. I first demonstrate how to do so using the **matplotlib** package. Notice that the `apple` `DataFrame` object has a convenience method, `plot()`, which makes creating plots easier."
   ]
  },
  {
   "cell_type": "code",
   "execution_count": null,
   "metadata": {},
   "outputs": [],
   "source": [
    "import matplotlib.pyplot as plt   # Import matplotlib\n",
    "# This line is necessary for the plot to appear in a Jupyter notebook\n",
    "%matplotlib inline\n",
    "# Control the default size of figures in this Jupyter notebook\n",
    "%pylab inline\n",
    "pylab.rcParams['figure.figsize'] = (15, 9)   # Change the size of plots\n",
    "\n",
    "apple[\"Adj. Close\"].plot(grid = True) # Plot the adjusted closing price of AAPL"
   ]
  },
  {
   "cell_type": "markdown",
   "metadata": {},
   "source": [
    "A linechart is fine, but there are at least four variables involved for each date (open, high, low, and close), and we would like to have some visual way to see all four variables that does not require plotting four separate lines. Financial data is often plotted with a **Japanese candlestick plot**, so named because it was first created by 18th century Japanese rice traders. Such a chart can be created with **matplotlib**, though it requires considerable effort.\n",
    "\n",
    "I have made a function you are welcome to use to more easily create candlestick charts from **pandas** data frames, and use it to plot our stock data. (Code is based off [this example](http://matplotlib.org/examples/pylab_examples/finance_demo.html), and you can read the documentation for the functions involved [here](http://matplotlib.org/api/finance_api.html).)"
   ]
  },
  {
   "cell_type": "code",
   "execution_count": null,
   "metadata": {},
   "outputs": [],
   "source": [
    "from matplotlib.dates import DateFormatter, WeekdayLocator,\\\n",
    "    DayLocator, MONDAY\n",
    "from matplotlib.finance import candlestick_ohlc\n",
    "\n",
    "def pandas_candlestick_ohlc(dat, stick = \"day\", adj = False, otherseries = None):\n",
    "    \"\"\"\n",
    "    :param dat: pandas DataFrame object with datetime64 index, and float columns \"Open\", \"High\", \"Low\", and \"Close\", likely created via DataReader from \"yahoo\"\n",
    "    :param stick: A string or number indicating the period of time covered by a single candlestick. Valid string inputs include \"day\", \"week\", \"month\", and \"year\", (\"day\" default), and any numeric input indicates the number of trading days included in a period\n",
    "    :param adj: A boolean indicating whether to use adjusted prices\n",
    "    :param otherseries: An iterable that will be coerced into a list, containing the columns of dat that hold other series to be plotted as lines\n",
    "    \n",
    "    This will show a Japanese candlestick plot for stock data stored in dat, also plotting other series if passed.\n",
    "    \"\"\"\n",
    "    mondays = WeekdayLocator(MONDAY)        # major ticks on the mondays\n",
    "    alldays = DayLocator()              # minor ticks on the days\n",
    "    dayFormatter = DateFormatter('%d')      # e.g., 12\n",
    "    \n",
    "    # Create a new DataFrame which includes OHLC data for each period specified by stick input\n",
    "    fields = [\"Open\", \"High\", \"Low\", \"Close\"]\n",
    "    if adj:\n",
    "        fields = [\"Adj. \" + s for s in fields]\n",
    "    transdat = dat.loc[:,fields]\n",
    "    transdat.columns = pd.Index([\"Open\", \"High\", \"Low\", \"Close\"])\n",
    "    if (type(stick) == str):\n",
    "        if stick == \"day\":\n",
    "            plotdat = transdat\n",
    "            stick = 1 # Used for plotting\n",
    "        elif stick in [\"week\", \"month\", \"year\"]:\n",
    "            if stick == \"week\":\n",
    "                transdat[\"week\"] = pd.to_datetime(transdat.index).map(lambda x: x.isocalendar()[1]) # Identify weeks\n",
    "            elif stick == \"month\":\n",
    "                transdat[\"month\"] = pd.to_datetime(transdat.index).map(lambda x: x.month) # Identify months\n",
    "            transdat[\"year\"] = pd.to_datetime(transdat.index).map(lambda x: x.isocalendar()[0]) # Identify years\n",
    "            grouped = transdat.groupby(list(set([\"year\",stick]))) # Group by year and other appropriate variable\n",
    "            plotdat = pd.DataFrame({\"Open\": [], \"High\": [], \"Low\": [], \"Close\": []}) # Create empty data frame containing what will be plotted\n",
    "            for name, group in grouped:\n",
    "                plotdat = plotdat.append(pd.DataFrame({\"Open\": group.iloc[0,0],\n",
    "                                            \"High\": max(group.High),\n",
    "                                            \"Low\": min(group.Low),\n",
    "                                            \"Close\": group.iloc[-1,3]},\n",
    "                                           index = [group.index[0]]))\n",
    "            if stick == \"week\": stick = 5\n",
    "            elif stick == \"month\": stick = 30\n",
    "            elif stick == \"year\": stick = 365\n",
    "                               \n",
    "    elif (type(stick) == int and stick >= 1):\n",
    "        transdat[\"stick\"] = [np.floor(i / stick) for i in range(len(transdat.index))]\n",
    "        grouped = transdat.groupby(\"stick\")\n",
    "        plotdat = pd.DataFrame({\"Open\": [], \"High\": [], \"Low\": [], \"Close\": []}) # Create empty data frame containing what will be plotted\n",
    "        for name, group in grouped:\n",
    "            plotdat = plotdat.append(pd.DataFrame({\"Open\": group.iloc[0,0],\n",
    "                                        \"High\": max(group.High),\n",
    "                                        \"Low\": min(group.Low),\n",
    "                                        \"Close\": group.iloc[-1,3]},\n",
    "                                       index = [group.index[0]]))\n",
    "            \n",
    "    else:\n",
    "        raise ValueError('Valid inputs to argument \"stick\" include the strings \"day\", \"week\", \"month\", \"year\", or a positive integer')\n",
    "\n",
    "\n",
    "    # Set plot parameters, including the axis object ax used for plotting\n",
    "    fig, ax = plt.subplots()\n",
    "    fig.subplots_adjust(bottom=0.2)\n",
    "    if plotdat.index[-1] - plotdat.index[0] < pd.Timedelta('730 days'):\n",
    "        weekFormatter = DateFormatter('%b %d')  # e.g., Jan 12\n",
    "        ax.xaxis.set_major_locator(mondays)\n",
    "        ax.xaxis.set_minor_locator(alldays)\n",
    "    else:\n",
    "        weekFormatter = DateFormatter('%b %d, %Y')\n",
    "    ax.xaxis.set_major_formatter(weekFormatter)\n",
    "    \n",
    "    ax.grid(True)\n",
    "    \n",
    "    # Create the candelstick chart\n",
    "    candlestick_ohlc(ax, list(zip(list(date2num(plotdat.index.tolist())), plotdat[\"Open\"].tolist(), plotdat[\"High\"].tolist(),\n",
    "                      plotdat[\"Low\"].tolist(), plotdat[\"Close\"].tolist())),\n",
    "                      colorup = \"black\", colordown = \"red\", width = stick * .4)\n",
    "    \n",
    "    # Plot other series (such as moving averages) as lines\n",
    "    if otherseries != None:\n",
    "        if type(otherseries) != list:\n",
    "            otherseries = [otherseries]\n",
    "        dat.loc[:,otherseries].plot(ax = ax, lw = 1.3, grid = True)\n",
    "\n",
    "    ax.xaxis_date()\n",
    "    ax.autoscale_view()\n",
    "    plt.setp(plt.gca().get_xticklabels(), rotation=45, horizontalalignment='right')\n",
    "\n",
    "    plt.show()\n",
    "\n",
    "pandas_candlestick_ohlc(apple, adj=True)"
   ]
  },
  {
   "cell_type": "markdown",
   "metadata": {},
   "source": [
    "With a candlestick chart, a black candlestick indicates a day where the closing price was higher than the open (a gain), while a red candlestick indicates a day where the open was higher than the close (a loss). The wicks indicate the high and the low, and the body the open and close (hue is used to determine which end of the body is the open and which the close). Candlestick charts are popular in finance and some strategies in [technical analysis](https://en.wikipedia.org/wiki/Technical_analysis) use them to make trading decisions, depending on the shape, color, and position of the candles. I will not cover such strategies today.\n",
    "\n",
    "We may wish to plot multiple financial instruments together; we may want to compare stocks, compare them to the market, or look at other securities such as [exchange-traded funds (ETFs)](https://en.wikipedia.org/wiki/Exchange-traded_fund). Later, we will also want to see how to plot a financial instrument against some indicator, like a moving average. For this you would rather use a line chart than a candlestick chart. (How would you plot multiple candlestick charts on top of one another without cluttering the chart?)\n",
    "\n",
    "Below, I get stock data for some other tech companies and plot their adjusted close together."
   ]
  },
  {
   "cell_type": "code",
   "execution_count": null,
   "metadata": {},
   "outputs": [],
   "source": [
    "microsoft, google = (quandl.get(\"WIKI/\" + s, start_date=start, end_date=end) for s in [\"MSFT\", \"GOOG\"])\n",
    "\n",
    "# Below I create a DataFrame consisting of the adjusted closing price of these stocks, first by making a list of these objects and using the join method\n",
    "stocks = pd.DataFrame({\"AAPL\": apple[\"Adj. Close\"],\n",
    "                      \"MSFT\": microsoft[\"Adj. Close\"],\n",
    "                      \"GOOG\": google[\"Adj. Close\"]})\n",
    "\n",
    "stocks.head()"
   ]
  },
  {
   "cell_type": "code",
   "execution_count": null,
   "metadata": {},
   "outputs": [],
   "source": [
    "stocks.plot(grid = True)"
   ]
  },
  {
   "cell_type": "markdown",
   "metadata": {},
   "source": [
    "What's wrong with this chart? While absolute price is important (pricy stocks are difficult to purchase, which affects not only their volatility but *your* ability to trade that stock), when trading, we are more concerned about the relative change of an asset rather than its absolute price. Google's stocks are much more expensive than Apple's or Microsoft's, and this difference makes Apple's and Microsoft's stocks appear much less volatile than they truly are (that is, their price appears to not deviate much).\n",
    "\n",
    "One solution would be to use two different scales when plotting the data; one scale will be used by Apple and Microsoft stocks, and the other by Google."
   ]
  },
  {
   "cell_type": "code",
   "execution_count": null,
   "metadata": {},
   "outputs": [],
   "source": [
    "stocks.plot(secondary_y = [\"AAPL\", \"MSFT\"], grid = True)"
   ]
  },
  {
   "cell_type": "markdown",
   "metadata": {},
   "source": [
    "A \"better\" solution, though, would be to plot the information we actually want: the stock's returns. This involves transforming the data into something more useful for our purposes. There are multiple transformations we could apply.\n",
    "\n",
    "One transformation would be to consider the stock's return since the beginning of the period of interest. In other words, we plot:\n",
    "\n",
    "\\begin{equation*}\n",
    "\\text{return}_{t,0} = \\frac{\\text{price}_t}{\\text{price}_0}\n",
    "\\end{equation*}\n",
    "\n",
    "This will require transforming the data in the `stocks` object, which I do next. Notice that I am using a **lambda function**, which allows me to pass a small function defined quickly as a parameter to another function or method (you can read more about lambda functions [here](https://docs.python.org/3/reference/expressions.html#lambda))."
   ]
  },
  {
   "cell_type": "code",
   "execution_count": null,
   "metadata": {},
   "outputs": [],
   "source": [
    "# df.apply(arg) will apply the function arg to each column in df, and return a DataFrame with the result\n",
    "# Recall that lambda x is an anonymous function accepting parameter x; in this case, x will be a pandas Series object\n",
    "stock_return = stocks.apply(lambda x: x / x[0])\n",
    "stock_return.head()"
   ]
  },
  {
   "cell_type": "code",
   "execution_count": null,
   "metadata": {},
   "outputs": [],
   "source": [
    "stock_return.plot(grid = True).axhline(y = 1, color = \"black\", lw = 2)"
   ]
  },
  {
   "cell_type": "markdown",
   "metadata": {},
   "source": [
    "This is a much more useful plot. We can now see how profitable each stock was since the beginning of the period. Furthermore, we see that these stocks are highly correlated; they generally move in the same direction, a fact that was difficult to see in the other charts.\n",
    "\n",
    "Alternatively, we could plot the change of each stock per day. One way to do so would be to plot the percentage increase of a stock when comparing day $t$ to day $t + 1$, with the formula:\n",
    "\n",
    "\\begin{equation*}\n",
    "\\text{growth}_t = \\frac{\\text{price}_{t + 1} - \\text{price}_t}{\\text{price}_t}\n",
    "\\end{equation*}\n",
    "\n",
    "But change could be thought of differently as:\n",
    "\n",
    "\\begin{equation*}\n",
    "\\text{increase}_t = \\frac{\\text{price}_{t} - \\text{price}_{t-1}}{\\text{price}_t}\n",
    "\\end{equation*}\n",
    "\n",
    "These formulas are not the same and can lead to differing conclusions, but there is another way to model the growth of a stock: with log differences.\n",
    "\n",
    "\\begin{equation*}\n",
    "\\text{change}_t = \\log(\\text{price}_{t}) - \\log(\\text{price}_{t - 1})\n",
    "\\end{equation*}\n",
    "\n",
    "(Here, $\\log$ is the natural log, and our definition does not depend as strongly on whether we use $\\log(\\text{price}_{t}) - \\log(\\text{price}_{t - 1})$ or $\\log(\\text{price}_{t+1}) - \\log(\\text{price}_{t})$.) The advantage of using log differences is that this difference can be interpreted as the percentage change in a stock but does not depend on the denominator of a fraction. Additionally, log differences have a desirable property: the sum of the log differences can be interpreted as the total change (as a percentage) over the period summed (which is not a property of the other formulations; they will overestimate growth). Log differences also more cleanly correspond to how stock prices are modeled in continuous time.\n",
    "\n",
    "We can obtain and plot the log differences of the data in `stocks` as follows:"
   ]
  },
  {
   "cell_type": "code",
   "execution_count": null,
   "metadata": {},
   "outputs": [],
   "source": [
    "# Let's use NumPy's log function, though math's log function would work just as well\n",
    "import numpy as np\n",
    "\n",
    "stock_change = stocks.apply(lambda x: np.log(x) - np.log(x.shift(1))) # shift moves dates back by 1.\n",
    "stock_change.head()"
   ]
  },
  {
   "cell_type": "code",
   "execution_count": null,
   "metadata": {},
   "outputs": [],
   "source": [
    "stock_change.plot(grid = True).axhline(y = 0, color = \"black\", lw = 2)"
   ]
  },
  {
   "cell_type": "markdown",
   "metadata": {},
   "source": [
    "Which transformation do you prefer? Looking at returns since the beginning of the period make the overall trend of the securities in question much more apparent. Changes between days, though, are what more advanced methods actually consider when modelling the behavior of a stock. so they should not be ignored.\n",
    "\n",
    "We often want to compare the performance of stocks to the performance of the overall market. [SPY](https://finance.yahoo.com/quote/SPY/), which is the ticker symbol for the SPDR S&P 500 exchange-traded mutual fund (ETF), is a fund that attempts only to imitate the composition of the [S&P 500 stock index](https://finance.yahoo.com/quote/%5EGSPC?p=^GSPC), and thus represents the value in \"the market.\"\n",
    "\n",
    "SPY data is not available for free from Quandl, so I will get this data from Yahoo! Finance. (I don't have a choice.)\n",
    "\n",
    "Below I get data for SPY and compare its performance to the performance of our stocks."
   ]
  },
  {
   "cell_type": "code",
   "execution_count": null,
   "metadata": {},
   "outputs": [],
   "source": [
    "#import pandas_datareader.data as web    # Going to get SPY from Yahoo! (I know I said you shouldn't but I didn't have a choice)\n",
    "#spyder = web.DataReader(\"SPY\", \"yahoo\", start, end)    # Didn't work\n",
    "#spyder = web.DataReader(\"SPY\", \"google\", start, end)    # Didn't work either\n",
    "# If all else fails, read from a file, obtained from here: http://www.nasdaq.com/symbol/spy/historical\n",
    "spyderdat = pd.read_csv(\"/home/curtis/Downloads/HistoricalQuotes.csv\")    # Obviously specific to my system; set to\n",
    "                                                                          # location on your machine\n",
    "spyderdat = pd.DataFrame(spyderdat.loc[:, [\"open\", \"high\", \"low\", \"close\", \"close\"]].iloc[1:].as_matrix(),\n",
    "                         index=pd.DatetimeIndex(spyderdat.iloc[1:, 0]),\n",
    "                         columns=[\"Open\", \"High\", \"Low\", \"Close\", \"Adj Close\"]).sort_index()\n",
    "\n",
    "spyder = spyderdat.loc[start:end]\n",
    "\n",
    "stocks = stocks.join(spyder.loc[:, \"Adj Close\"]).rename(columns={\"Adj Close\": \"SPY\"})\n",
    "stocks.head()"
   ]
  },
  {
   "cell_type": "code",
   "execution_count": null,
   "metadata": {},
   "outputs": [],
   "source": [
    "stock_return = stocks.apply(lambda x: x / x[0])\n",
    "stock_return.plot(grid = True).axhline(y = 1, color = \"black\", lw = 2)"
   ]
  },
  {
   "cell_type": "code",
   "execution_count": null,
   "metadata": {},
   "outputs": [],
   "source": [
    "stock_change = stocks.apply(lambda x: np.log(x) - np.log(x.shift(1)))\n",
    "stock_change.plot(grid=True).axhline(y = 0, color = \"black\", lw = 2)"
   ]
  },
  {
   "cell_type": "markdown",
   "metadata": {},
   "source": [
    "## Classical Risk Metrics\n",
    "\n",
    "From what we have so far we can already compute informative metrics for our stocks, which can be considered some measure of risk.\n",
    "\n",
    "First, we will want to **annualize** our returns, thus computing the **annual percentage rate (APR)**. This helps us keep returns on a common time scale."
   ]
  },
  {
   "cell_type": "code",
   "execution_count": null,
   "metadata": {},
   "outputs": [],
   "source": [
    "stock_change_apr = stock_change * 252 * 100    # There are 252 trading days in a year; the 100 converts to percentages\n",
    "stock_change_apr.tail()"
   ]
  },
  {
   "cell_type": "markdown",
   "metadata": {},
   "source": [
    "Some of these numbers look initially like nonsense, but that's okay for now.\n",
    "\n",
    "The metrics I want are:\n",
    "* The average return\n",
    "* Volatility (the standard deviation of returns)\n",
    "* $\\alpha$ and $\\beta$\n",
    "* The Sharpe ratio\n",
    "\n",
    "The first two metrics are largely self-explanatory, but the latter two need explaining.\n",
    "\n",
    "First, the **risk-free rate**, which I denote by $r_{RF}$, is the rate of return on a risk-free financial asset. This asset exists only in theory but often yields on low-risk instruments like 3-month U.S. Treasury Bills can be viewed as being virtually risk-free and thus their yields can be used to approximate the risk-free rate. I get the data for these instruments below."
   ]
  },
  {
   "cell_type": "code",
   "execution_count": null,
   "metadata": {},
   "outputs": [],
   "source": [
    "tbill = quandl.get(\"FRED/TB3MS\", start_date=start, end_date=end)\n",
    "tbill.tail()"
   ]
  },
  {
   "cell_type": "code",
   "execution_count": null,
   "metadata": {},
   "outputs": [],
   "source": [
    "tbill.plot()"
   ]
  },
  {
   "cell_type": "code",
   "execution_count": null,
   "metadata": {},
   "outputs": [],
   "source": [
    "rrf = tbill.iloc[-1, 0]    # Get the most recent Treasury Bill rate\n",
    "rrf"
   ]
  },
  {
   "cell_type": "markdown",
   "metadata": {},
   "source": [
    "Now, a **linear regression model** is a model of the following form:\n",
    "\n",
    "$$y_i = \\alpha + \\beta x_i + \\epsilon_i$$\n",
    "\n",
    "$\\epsilon_i$ is an error process. Another way to think of this process model is:\n",
    "\n",
    "$$\\hat{y}_i = \\alpha + \\beta x_i$$\n",
    "\n",
    "$\\hat{y}_i$ is the **predicted value** of $y_i$ given $x_i$. In other words, a linear regression model tells you how $x_i$ and $y_i$ are related, and how values of $x_i$ can be used to predict values of $y_i$. $\\alpha$ is the **intercept** of the model and $\\beta$ is the **slope**. In particular, $\\alpha$ would be the predicted value of $y$ if $x$ were zero, and $\\beta$ gives how much $y$ changes when $x$ changes by one unit.\n",
    "\n",
    "There is an easy way to compute $\\alpha$ and $\\beta$ given the sample means $\\bar{x}$ and $\\bar{y}$ and sample standard deviations $s_x$ and $s_y$ and the correlation between $x$ and $y$, denoted with $r$:\n",
    "\n",
    "$$\\beta = r \\frac{s_y}{s_x}$$\n",
    "$$\\alpha = \\bar{y} - \\beta \\bar{x}$$\n",
    "\n",
    "In finance, we use $\\alpha$ and $\\beta$ like so:\n",
    "\n",
    "$$R_t - r_{RF} = \\alpha + \\beta (R_{Mt} - r_{RF}) + \\epsilon_t$$\n",
    "\n",
    "$R_t$ is the return of a financial asset (a stock) and $R_t - r_{RF}$ is the **excess return**, or return exceeding the risk-free rate of return. $R_{Mt}$ is the return of the *market* at time $t$. Then $\\alpha$ and $\\beta can be interpreted like so:\n",
    "\n",
    "* $\\alpha$ is average excess return over the market.\n",
    "* $\\beta$ is how much a stock moves in relation to the market. If $\\beta > 0$ then the stock generally moves in the same direction as the market, while when $\\beta < 0$ the stock generally moves in the opposite direction. If $|\\beta| > 1$ the stock moves strongly in response to the market $|\\beta| < 1$ the stock is less responsive to the market.\n",
    "\n",
    "Below I get a **pandas** `Series` that contains how much each stock is correlated with SPY (our approximation of the market)."
   ]
  },
  {
   "cell_type": "code",
   "execution_count": null,
   "metadata": {},
   "outputs": [],
   "source": [
    "smcorr = stock_change_apr.drop(\"SPY\", 1).corrwith(stock_change_apr.SPY)    # Since RRF is constant it doesn't change the\n",
    "                                                                           # correlation so we can ignore it in our\n",
    "                                                                           # calculation\n",
    "smcorr"
   ]
  },
  {
   "cell_type": "markdown",
   "metadata": {},
   "source": [
    "Then I compute $\\alpha$ and $\\beta$."
   ]
  },
  {
   "cell_type": "code",
   "execution_count": null,
   "metadata": {},
   "outputs": [],
   "source": [
    "sy = stock_change_apr.drop(\"SPY\", 1).std()\n",
    "sx = stock_change_apr.SPY.std()\n",
    "sy"
   ]
  },
  {
   "cell_type": "code",
   "execution_count": null,
   "metadata": {},
   "outputs": [],
   "source": [
    "sx"
   ]
  },
  {
   "cell_type": "code",
   "execution_count": null,
   "metadata": {},
   "outputs": [],
   "source": [
    "ybar = stock_change_apr.drop(\"SPY\", 1).mean() - rrf\n",
    "xbar = stock_change_apr.SPY.mean() - rrf\n",
    "ybar"
   ]
  },
  {
   "cell_type": "code",
   "execution_count": null,
   "metadata": {},
   "outputs": [],
   "source": [
    "xbar"
   ]
  },
  {
   "cell_type": "code",
   "execution_count": null,
   "metadata": {},
   "outputs": [],
   "source": [
    "beta = smcorr * sy / sx\n",
    "alpha = ybar - beta * xbar\n",
    "beta"
   ]
  },
  {
   "cell_type": "code",
   "execution_count": null,
   "metadata": {},
   "outputs": [],
   "source": [
    "alpha"
   ]
  },
  {
   "cell_type": "markdown",
   "metadata": {},
   "source": [
    "The **Sharpe ratio** is another popular risk metric, defined below:\n",
    "\n",
    "$$\\text{Sharpe ratio} = \\frac{\\bar{R_t} - r_{RF}}{s}$$\n",
    "\n",
    "Here $s$ is the volatility of the stock. We want the sharpe ratio to be large. A large Sharpe ratio indicates that the stock's excess returns are large relative to the stock's volatilitly. Additionally, the Sharpe ratio is tied to a statistical test (the $t$-test) to determine if a stock earns more on average than the risk-free rate; the larger this ratio, the more likely this is to be the case.\n",
    "\n",
    "Your challenge now is to compute the Sharpe ratio for each stock listed here, and interpret it. Which stock seems to be the better investment according to the Sharpe ratio?"
   ]
  },
  {
   "cell_type": "code",
   "execution_count": null,
   "metadata": {
    "collapsed": true
   },
   "outputs": [],
   "source": [
    "# Your code here"
   ]
  },
  {
   "cell_type": "markdown",
   "metadata": {},
   "source": [
    "## Moving Averages\n",
    "\n",
    "Charts are very useful. In fact, some traders base their strategies almost entirely off charts (these are the \"technicians\", since trading strategies based off finding patterns in charts is a part of the trading doctrine known as **technical analysis**). Let's now consider how we can find trends in stocks.\n",
    "\n",
    "A **$q$-day moving average** is, for a series $x_t$ and a point in time $t$, the average of the past $q$ days: that is, if $MA^q_t$ denotes a moving average process, then:\n",
    "\n",
    "\\begin{equation*}\n",
    "MA^q_t = \\frac{1}{q} \\sum_{i = 0}^{q-1} x_{t - i}\n",
    "\\end{equation*}\n",
    "\n",
    "Moving averages smooth a series and helps identify trends. The larger $q$ is, the less responsive a moving average process is to short-term fluctuations in the series $x_t$. The idea is that moving average processes help identify trends from \"noise\". **Fast** moving averages have smaller $q$ and more closely follow the stock, while **slow** moving averages have larger $q$, resulting in them responding less to the fluctuations of the stock and being more stable.\n",
    "\n",
    "**pandas** provides functionality for easily computing moving averages. I demonstrate its use by creating a 20-day (one month) moving average for the Apple data, and plotting it alongside the stock."
   ]
  },
  {
   "cell_type": "code",
   "execution_count": null,
   "metadata": {
    "scrolled": false
   },
   "outputs": [],
   "source": [
    "apple[\"20d\"] = np.round(apple[\"Adj. Close\"].rolling(window = 20, center = False).mean(), 2)\n",
    "pandas_candlestick_ohlc(apple.loc['2016-01-04':'2016-12-31',:], otherseries = \"20d\", adj=True)"
   ]
  },
  {
   "cell_type": "markdown",
   "metadata": {},
   "source": [
    "Notice how late the rolling average begins. It cannot be computed until 20 days have passed. This limitation becomes more severe for longer moving averages. Because I would like to be able to compute 200-day moving averages, I'm going to extend out how much AAPL data we have. That said, we will still largely focus on 2016."
   ]
  },
  {
   "cell_type": "code",
   "execution_count": null,
   "metadata": {},
   "outputs": [],
   "source": [
    "start = datetime.datetime(2010,1,1)\n",
    "apple = quandl.get(\"WIKI/AAPL\", start_date=start, end_date=end)\n",
    "apple[\"20d\"] = np.round(apple[\"Adj. Close\"].rolling(window = 20, center = False).mean(), 2)\n",
    "\n",
    "pandas_candlestick_ohlc(apple.loc['2016-01-04':'2016-12-31',:], otherseries = \"20d\", adj=True)"
   ]
  },
  {
   "cell_type": "markdown",
   "metadata": {},
   "source": [
    "You will notice that a moving average is much smoother than the actua stock data. Additionally, it's a stubborn indicator; a stock needs to be above or below the moving average line in order for the line to change direction. Thus, crossing a moving average signals a possible change in trend, and should draw attention.\n",
    "\n",
    "Traders are usually interested in multiple moving averages, such as the 20-day, 50-day, and 200-day moving averages. It's easy to examine multiple moving averages at once."
   ]
  },
  {
   "cell_type": "code",
   "execution_count": null,
   "metadata": {
    "scrolled": false
   },
   "outputs": [],
   "source": [
    "apple[\"50d\"] = np.round(apple[\"Adj. Close\"].rolling(window = 50, center = False).mean(), 2)\n",
    "apple[\"200d\"] = np.round(apple[\"Adj. Close\"].rolling(window = 200, center = False).mean(), 2)\n",
    "\n",
    "pandas_candlestick_ohlc(apple.loc['2016-01-04':'2016-12-31',:], otherseries = [\"20d\", \"50d\", \"200d\"], adj=True)"
   ]
  },
  {
   "cell_type": "markdown",
   "metadata": {},
   "source": [
    "The 20-day moving average is the most sensitive to local changes, and the 200-day moving average the least. Here, the 200-day moving average indicates an overall **bearish** trend: the stock is trending downward over time. The 20-day moving average is at times bearish and at other times **bullish**, where a positive swing is expected. You can also see that the crossing of moving average lines indicate changes in trend. These crossings are what we can use as **trading signals**, or indications that a financial security is changind direction and a profitable trade might be made.\n",
    "\n",
    "## Trading Strategy\n",
    "\n",
    "Our concern now is to design and evaluate trading strategies.\n",
    "\n",
    "Any trader must have a set of rules that determine how much of her money she is willing to bet on any single trade. For example, a trader may decide that under no circumstances will she risk more than 10% of her portfolio on a trade. Additionally, in any trade, a trader must have an **exit strategy**, a set of conditions determining when she will exit the position, for either profit or loss. A trader may set a **target**, which is the minimum profit that will induce the trader to leave the position. Likewise, a trader may have a maximum loss she is willing to tolerate; if potential losses go beyond this amount, the trader will exit the position in order to prevent any further loss. We will suppose that the amount of money in the portfolio involved in any particular trade is a fixed proportion; 10% seems like a good number.\n",
    "\n",
    "Here, I will be demonstrating a [moving average crossover strategy](http://www.investopedia.com/university/movingaverage/movingaverages4.asp). We will use two moving averages, one we consider \"fast\", and the other \"slow\". The strategy is:\n",
    "\n",
    "* Trade the asset when the fast moving average crosses over the slow moving average.\n",
    "* Exit the trade when the fast moving average crosses over the slow moving average again.\n",
    "\n",
    "A trade will be prompted when the fast moving average crosses from below to above the slow moving average, and the trade will be exited when the fast moving average crosses below the slow moving average later.\n",
    "\n",
    "We now have a complete strategy. But before we decide we want to use it, we should try to evaluate the quality of the strategy first. The usual means for doing so is **backtesting**, which is looking at how profitable the strategy is on historical data. For example, looking at the above chart's performance on Apple stock, if the 20-day moving average is the fast moving average and the 50-day moving average the slow, this strategy does not appear to be very profitable, at least not if you are always taking long positions.\n",
    "\n",
    "Let's see if we can automate the backtesting task. We first identify when the 20-day average is below the 50-day average, and vice versa."
   ]
  },
  {
   "cell_type": "code",
   "execution_count": null,
   "metadata": {},
   "outputs": [],
   "source": [
    "apple['20d-50d'] = apple['20d'] - apple['50d']\n",
    "apple.tail()"
   ]
  },
  {
   "cell_type": "markdown",
   "metadata": {},
   "source": [
    "We will refer to the sign of this difference as the **regime**; that is, if the fast moving average is above the slow moving average, this is a bullish regime (the bulls rule), and a bearish regime (the bears rule) holds when the fast moving average is below the slow moving average. I identify regimes with the following code."
   ]
  },
  {
   "cell_type": "code",
   "execution_count": null,
   "metadata": {},
   "outputs": [],
   "source": [
    "# np.where() is a vectorized if-else function, where a condition is checked for each component of a vector, and the first argument passed is used when the condition holds, and the other passed if it does not\n",
    "apple[\"Regime\"] = np.where(apple['20d-50d'] > 0, 1, 0)\n",
    "# We have 1's for bullish regimes and 0's for everything else. Below I replace bearish regimes's values with -1, and to maintain the rest of the vector, the second argument is apple[\"Regime\"]\n",
    "apple[\"Regime\"] = np.where(apple['20d-50d'] < 0, -1, apple[\"Regime\"])\n",
    "apple.loc['2016-01-04':'2016-12-31',\"Regime\"].plot(ylim = (-2,2)).axhline(y = 0, color = \"black\", lw = 2)"
   ]
  },
  {
   "cell_type": "code",
   "execution_count": null,
   "metadata": {},
   "outputs": [],
   "source": [
    "apple[\"Regime\"].plot(ylim = (-2,2)).axhline(y = 0, color = \"black\", lw = 2)"
   ]
  },
  {
   "cell_type": "code",
   "execution_count": null,
   "metadata": {},
   "outputs": [],
   "source": [
    "apple[\"Regime\"].value_counts()"
   ]
  },
  {
   "cell_type": "markdown",
   "metadata": {},
   "source": [
    "The last line above indicates that for 1005 days the market was bearish on Apple, while for 600 days the market was bullish, and it was neutral for 54 days.\n",
    "\n",
    "Trading signals appear at regime changes. When a bullish regime begins, a buy signal is triggered, and when it ends, a sell signal is triggered. Likewise, when a bearish regime begins, a sell signal is triggered, and when the regime ends, a buy signal is triggered (this is of interest only if you ever will short the stock, or use some derivative like a stock option to bet against the market).\n",
    "\n",
    "It's simple to obtain signals. Let $r_t$ indicate the regime at time $t$, and $s_t$ the signal at time $t$. Then:\n",
    "\n",
    "\\begin{equation*}\n",
    "s_t = \\text{sign}(r_t - r_{t - 1})\n",
    "\\end{equation*}\n",
    "\n",
    "$s_t \\in \\{-1, 0, 1\\}$, with $-1$ indicating \"sell\", $1$ indicating \"buy\", and $0$ no action. We can obtain signals like so:"
   ]
  },
  {
   "cell_type": "code",
   "execution_count": null,
   "metadata": {},
   "outputs": [],
   "source": [
    "# To ensure that all trades close out, I temporarily change the regime of the last row to 0\n",
    "regime_orig = apple.loc[:, \"Regime\"].iloc[-1]\n",
    "apple.loc[:, \"Regime\"].iloc[-1] = 0\n",
    "apple[\"Signal\"] = np.sign(apple[\"Regime\"] - apple[\"Regime\"].shift(1))\n",
    "# Restore original regime data\n",
    "apple.loc[:, \"Regime\"].iloc[-1] = regime_orig\n",
    "apple.tail()"
   ]
  },
  {
   "cell_type": "code",
   "execution_count": null,
   "metadata": {},
   "outputs": [],
   "source": [
    "apple[\"Signal\"].plot(ylim = (-2, 2))"
   ]
  },
  {
   "cell_type": "code",
   "execution_count": null,
   "metadata": {},
   "outputs": [],
   "source": [
    "apple[\"Signal\"].value_counts()"
   ]
  },
  {
   "cell_type": "markdown",
   "metadata": {},
   "source": [
    "We would buy Apple stock 23 times and sell Apple stock 23 times. If we only go long on Apple stock, only 23 trades will be engaged in over the 6-year period, while if we pivot from a long to a short position every time a long position is terminated, we would engage in 23 trades total. (Bear in mind that trading more frequently isn't necessarily good; trades are never free.)\n",
    "\n",
    "You may notice that the system as it currently stands isn't very robust, since even a fleeting moment when the fast moving average is above the slow moving average triggers a trade, resulting in trades that end immediately (which is bad if not simply because realistically every trade is accompanied by a fee that can quickly erode earnings). Additionally, every bullish regime immediately transitions into a bearish regime, and if you were constructing trading systems that allow both bullish and bearish bets, this would lead to the end of one trade immediately triggering a new trade that bets on the market in the opposite direction, which again seems finnicky. A better system would require more evidence that the market is moving in some particular direction. But we will not concern ourselves with these details for now.\n",
    "\n",
    "Let's now try to identify what the prices of the stock is at every buy and every sell."
   ]
  },
  {
   "cell_type": "code",
   "execution_count": null,
   "metadata": {},
   "outputs": [],
   "source": [
    "apple.loc[apple[\"Signal\"] == 1, \"Close\"]"
   ]
  },
  {
   "cell_type": "code",
   "execution_count": null,
   "metadata": {},
   "outputs": [],
   "source": [
    "apple.loc[apple[\"Signal\"] == -1, \"Close\"]"
   ]
  },
  {
   "cell_type": "code",
   "execution_count": null,
   "metadata": {},
   "outputs": [],
   "source": [
    "# Create a DataFrame with trades, including the price at the trade and the regime under which the trade is made.\n",
    "apple_signals = pd.concat([\n",
    "        pd.DataFrame({\"Price\": apple.loc[apple[\"Signal\"] == 1, \"Adj. Close\"],\n",
    "                     \"Regime\": apple.loc[apple[\"Signal\"] == 1, \"Regime\"],\n",
    "                     \"Signal\": \"Buy\"}),\n",
    "        pd.DataFrame({\"Price\": apple.loc[apple[\"Signal\"] == -1, \"Adj. Close\"],\n",
    "                     \"Regime\": apple.loc[apple[\"Signal\"] == -1, \"Regime\"],\n",
    "                     \"Signal\": \"Sell\"}),\n",
    "    ])\n",
    "apple_signals.sort_index(inplace = True)\n",
    "apple_signals"
   ]
  },
  {
   "cell_type": "code",
   "execution_count": null,
   "metadata": {},
   "outputs": [],
   "source": [
    "# Let's see the profitability of long trades\n",
    "apple_long_profits = pd.DataFrame({\n",
    "        \"Price\": apple_signals.loc[(apple_signals[\"Signal\"] == \"Buy\") &\n",
    "                                  apple_signals[\"Regime\"] == 1, \"Price\"],\n",
    "        \"Profit\": pd.Series(apple_signals[\"Price\"] - apple_signals[\"Price\"].shift(1)).loc[\n",
    "            apple_signals.loc[(apple_signals[\"Signal\"].shift(1) == \"Buy\") & (apple_signals[\"Regime\"].shift(1) == 1)].index\n",
    "        ].tolist(),\n",
    "        \"End Date\": apple_signals[\"Price\"].loc[\n",
    "            apple_signals.loc[(apple_signals[\"Signal\"].shift(1) == \"Buy\") & (apple_signals[\"Regime\"].shift(1) == 1)].index\n",
    "        ].index\n",
    "    })\n",
    "apple_long_profits"
   ]
  },
  {
   "cell_type": "markdown",
   "metadata": {},
   "source": [
    "Let's now create a simulated portfolio of $1,000,000, and see how it would behave, according to the rules we have established. This includes:\n",
    "\n",
    "* Investing only 10% of the portfolio in any trade\n",
    "* Exiting the position if losses exceed 20% of the value of the trade.\n",
    "\n",
    "When simulating, bear in mind that:\n",
    "\n",
    "* Trades are done in batches of 100 stocks.\n",
    "* Our stop-loss rule involves placing an order to sell the stock the moment the price drops below the specified level. Thus we need to check whether the lows during this period ever go low enough to trigger the stop-loss. Realistically, unless we buy a put option, we cannot guarantee that we will sell the stock at the price we set at the stop-loss, but we will use this as the selling price anyway for the sake of simplicity.\n",
    "* Every trade is accompanied by a commission to the broker, which should be accounted for. I do not do so here.\n",
    "\n",
    "Here's how a backtest may look:"
   ]
  },
  {
   "cell_type": "code",
   "execution_count": null,
   "metadata": {},
   "outputs": [],
   "source": [
    "# We need to get the low of the price during each trade.\n",
    "tradeperiods = pd.DataFrame({\"Start\": apple_long_profits.index,\n",
    "                            \"End\": apple_long_profits[\"End Date\"]})\n",
    "apple_long_profits[\"Low\"] = tradeperiods.apply(lambda x: min(apple.loc[x[\"Start\"]:x[\"End\"], \"Adj. Low\"]), axis = 1)\n",
    "apple_long_profits"
   ]
  },
  {
   "cell_type": "code",
   "execution_count": null,
   "metadata": {},
   "outputs": [],
   "source": [
    "# Now we have all the information needed to simulate this strategy in apple_adj_long_profits\n",
    "cash = 1000000\n",
    "apple_backtest = pd.DataFrame({\"Start Port. Value\": [],\n",
    "                         \"End Port. Value\": [],\n",
    "                         \"End Date\": [],\n",
    "                         \"Shares\": [],\n",
    "                         \"Share Price\": [],\n",
    "                         \"Trade Value\": [],\n",
    "                         \"Profit per Share\": [],\n",
    "                         \"Total Profit\": [],\n",
    "                         \"Stop-Loss Triggered\": []})\n",
    "port_value = .1  # Max proportion of portfolio bet on any trade\n",
    "batch = 100      # Number of shares bought per batch\n",
    "stoploss = .2    # % of trade loss that would trigger a stoploss\n",
    "for index, row in apple_long_profits.iterrows():\n",
    "    batches = np.floor(cash * port_value) // np.ceil(batch * row[\"Price\"]) # Maximum number of batches of stocks invested in\n",
    "    trade_val = batches * batch * row[\"Price\"] # How much money is put on the line with each trade\n",
    "    if row[\"Low\"] < (1 - stoploss) * row[\"Price\"]:   # Account for the stop-loss\n",
    "        share_profit = np.round((1 - stoploss) * row[\"Price\"], 2)\n",
    "        stop_trig = True\n",
    "    else:\n",
    "        share_profit = row[\"Profit\"]\n",
    "        stop_trig = False\n",
    "    profit = share_profit * batches * batch # Compute profits\n",
    "    # Add a row to the backtest data frame containing the results of the trade\n",
    "    apple_backtest = apple_backtest.append(pd.DataFrame({\n",
    "                \"Start Port. Value\": cash,\n",
    "                \"End Port. Value\": cash + profit,\n",
    "                \"End Date\": row[\"End Date\"],\n",
    "                \"Shares\": batch * batches,\n",
    "                \"Share Price\": row[\"Price\"],\n",
    "                \"Trade Value\": trade_val,\n",
    "                \"Profit per Share\": share_profit,\n",
    "                \"Total Profit\": profit,\n",
    "                \"Stop-Loss Triggered\": stop_trig\n",
    "            }, index = [index]))\n",
    "    cash = max(0, cash + profit)\n",
    "\n",
    "apple_backtest"
   ]
  },
  {
   "cell_type": "code",
   "execution_count": null,
   "metadata": {},
   "outputs": [],
   "source": [
    "apple_backtest[\"End Port. Value\"].plot()"
   ]
  },
  {
   "cell_type": "markdown",
   "metadata": {},
   "source": [
    "Our portfolio's value grew by 13% in about six years. Considering that only 10% of the portfolio was ever involved in any single trade, this is not bad performance.\n",
    "\n",
    "Notice that this strategy never lead to our rule of never allowing losses to exceed 20% of the trade's value being invoked. For the sake of simplicity, we will ignore this rule in backtesting.\n",
    "\n",
    "A more realistic portfolio would not be betting 10% of its value on only one stock. A more realistic one would consider investing in multiple stocks. Multiple trades may be ongoing at any given time involving multiple companies, and most of the portfolio will be in stocks, not cash. Now that we will be investing in multiple stops and exiting only when moving averages cross (not because of a stop-loss), we will need to change our approach to backtesting. For example, we will be using one **pandas** `DataFrame` to contain all buy and sell orders for all stocks being considered, and our loop above will have to track more information.\n",
    "\n",
    "I have written functions for creating order data for multiple stocks, and a function for performing the backtesting."
   ]
  },
  {
   "cell_type": "code",
   "execution_count": null,
   "metadata": {
    "collapsed": true
   },
   "outputs": [],
   "source": [
    "def ma_crossover_orders(stocks, fast, slow):\n",
    "    \"\"\"\n",
    "    :param stocks: A list of tuples, the first argument in each tuple being a string containing the ticker symbol of each stock (or however you want the stock represented, so long as it's unique), and the second being a pandas DataFrame containing the stocks, with a \"Close\" column and indexing by date (like the data frames returned by the Yahoo! Finance API)\n",
    "    :param fast: Integer for the number of days used in the fast moving average\n",
    "    :param slow: Integer for the number of days used in the slow moving average\n",
    "    \n",
    "    :return: pandas DataFrame containing stock orders\n",
    "    \n",
    "    This function takes a list of stocks and determines when each stock would be bought or sold depending on a moving average crossover strategy, returning a data frame with information about when the stocks in the portfolio are bought or sold according to the strategy\n",
    "    \"\"\"\n",
    "    fast_str = str(fast) + 'd'\n",
    "    slow_str = str(slow) + 'd'\n",
    "    ma_diff_str = fast_str + '-' + slow_str\n",
    "    \n",
    "    trades = pd.DataFrame({\"Price\": [], \"Regime\": [], \"Signal\": []})\n",
    "    for s in stocks:\n",
    "        # Get the moving averages, both fast and slow, along with the difference in the moving averages\n",
    "        s[1][fast_str] = np.round(s[1][\"Close\"].rolling(window = fast, center = False).mean(), 2)\n",
    "        s[1][slow_str] = np.round(s[1][\"Close\"].rolling(window = slow, center = False).mean(), 2)\n",
    "        s[1][ma_diff_str] = s[1][fast_str] - s[1][slow_str]\n",
    "        \n",
    "        # np.where() is a vectorized if-else function, where a condition is checked for each component of a vector, and the first argument passed is used when the condition holds, and the other passed if it does not\n",
    "        s[1][\"Regime\"] = np.where(s[1][ma_diff_str] > 0, 1, 0)\n",
    "        # We have 1's for bullish regimes and 0's for everything else. Below I replace bearish regimes's values with -1, and to maintain the rest of the vector, the second argument is apple[\"Regime\"]\n",
    "        s[1][\"Regime\"] = np.where(s[1][ma_diff_str] < 0, -1, s[1][\"Regime\"])\n",
    "        # To ensure that all trades close out, I temporarily change the regime of the last row to 0\n",
    "        regime_orig = s[1].loc[:, \"Regime\"].iloc[-1]\n",
    "        s[1].loc[:, \"Regime\"].iloc[-1] = 0\n",
    "        s[1][\"Signal\"] = np.sign(s[1][\"Regime\"] - s[1][\"Regime\"].shift(1))\n",
    "        # Restore original regime data\n",
    "        s[1].loc[:, \"Regime\"].iloc[-1] = regime_orig\n",
    "        \n",
    "        # Get signals\n",
    "        signals = pd.concat([\n",
    "            pd.DataFrame({\"Price\": s[1].loc[s[1][\"Signal\"] == 1, \"Adj. Close\"],\n",
    "                         \"Regime\": s[1].loc[s[1][\"Signal\"] == 1, \"Regime\"],\n",
    "                         \"Signal\": \"Buy\"}),\n",
    "            pd.DataFrame({\"Price\": s[1].loc[s[1][\"Signal\"] == -1, \"Adj. Close\"],\n",
    "                         \"Regime\": s[1].loc[s[1][\"Signal\"] == -1, \"Regime\"],\n",
    "                         \"Signal\": \"Sell\"}),\n",
    "        ])\n",
    "        signals.index = pd.MultiIndex.from_product([signals.index, [s[0]]], names = [\"Date\", \"Symbol\"])\n",
    "        trades = trades.append(signals)\n",
    "    \n",
    "    trades.sort_index(inplace = True)\n",
    "    trades.index = pd.MultiIndex.from_tuples(trades.index, names = [\"Date\", \"Symbol\"])\n",
    "    \n",
    "    return trades\n",
    "\n",
    "\n",
    "def backtest(signals, cash, port_value = .1, batch = 100):\n",
    "    \"\"\"\n",
    "    :param signals: pandas DataFrame containing buy and sell signals with stock prices and symbols, like that returned by ma_crossover_orders\n",
    "    :param cash: integer for starting cash value\n",
    "    :param port_value: maximum proportion of portfolio to risk on any single trade\n",
    "    :param batch: Trading batch sizes\n",
    "    \n",
    "    :return: pandas DataFrame with backtesting results\n",
    "    \n",
    "    This function backtests strategies, with the signals generated by the strategies being passed in the signals DataFrame. A fictitious portfolio is simulated and the returns generated by this portfolio are reported.\n",
    "    \"\"\"\n",
    "    \n",
    "    SYMBOL = 1 # Constant for which element in index represents symbol\n",
    "    portfolio = dict()    # Will contain how many stocks are in the portfolio for a given symbol\n",
    "    port_prices = dict()  # Tracks old trade prices for determining profits\n",
    "    # Dataframe that will contain backtesting report\n",
    "    results = pd.DataFrame({\"Start Cash\": [],\n",
    "                            \"End Cash\": [],\n",
    "                            \"Portfolio Value\": [],\n",
    "                            \"Type\": [],\n",
    "                            \"Shares\": [],\n",
    "                            \"Share Price\": [],\n",
    "                            \"Trade Value\": [],\n",
    "                            \"Profit per Share\": [],\n",
    "                            \"Total Profit\": []})\n",
    "    \n",
    "    for index, row in signals.iterrows():\n",
    "        # These first few lines are done for any trade\n",
    "        shares = portfolio.setdefault(index[SYMBOL], 0)\n",
    "        trade_val = 0\n",
    "        batches = 0\n",
    "        cash_change = row[\"Price\"] * shares   # Shares could potentially be a positive or negative number (cash_change will be added in the end; negative shares indicate a short)\n",
    "        portfolio[index[SYMBOL]] = 0  # For a given symbol, a position is effectively cleared\n",
    "        \n",
    "        old_price = port_prices.setdefault(index[SYMBOL], row[\"Price\"])\n",
    "        portfolio_val = 0\n",
    "        for key, val in portfolio.items():\n",
    "            portfolio_val += val * port_prices[key]\n",
    "            \n",
    "        if row[\"Signal\"] == \"Buy\" and row[\"Regime\"] == 1:  # Entering a long position\n",
    "            batches = np.floor((portfolio_val + cash) * port_value) // np.ceil(batch * row[\"Price\"]) # Maximum number of batches of stocks invested in\n",
    "            trade_val = batches * batch * row[\"Price\"] # How much money is put on the line with each trade\n",
    "            cash_change -= trade_val  # We are buying shares so cash will go down\n",
    "            portfolio[index[SYMBOL]] = batches * batch  # Recording how many shares are currently invested in the stock\n",
    "            port_prices[index[SYMBOL]] = row[\"Price\"]   # Record price\n",
    "            old_price = row[\"Price\"]\n",
    "        elif row[\"Signal\"] == \"Sell\" and row[\"Regime\"] == -1: # Entering a short\n",
    "            pass\n",
    "            # Do nothing; can we provide a method for shorting the market?\n",
    "        #else:\n",
    "            #raise ValueError(\"I don't know what to do with signal \" + row[\"Signal\"])\n",
    "        \n",
    "        pprofit = row[\"Price\"] - old_price   # Compute profit per share; old_price is set in such a way that entering a position results in a profit of zero\n",
    "            \n",
    "        # Update report\n",
    "        results = results.append(pd.DataFrame({\n",
    "                \"Start Cash\": cash,\n",
    "                \"End Cash\": cash + cash_change,\n",
    "                \"Portfolio Value\": cash + cash_change + portfolio_val + trade_val,\n",
    "                \"Type\": row[\"Signal\"],\n",
    "                \"Shares\": batch * batches,\n",
    "                \"Share Price\": row[\"Price\"],\n",
    "                \"Trade Value\": abs(cash_change),\n",
    "                \"Profit per Share\": pprofit,\n",
    "                \"Total Profit\": batches * batch * pprofit\n",
    "            }, index = [index]))\n",
    "        cash += cash_change  # Final change to cash balance\n",
    "    \n",
    "    results.sort_index(inplace = True)\n",
    "    results.index = pd.MultiIndex.from_tuples(results.index, names = [\"Date\", \"Symbol\"])\n",
    "    \n",
    "    return results\n",
    "\n",
    "# Get more stocks\n",
    "(microsoft, google, facebook, twitter, netflix,\n",
    "amazon, yahoo, ge, qualcomm, ibm, hp) = (quandl.get(\"WIKI/\" + s, start_date=start,\n",
    "                                                                         end_date=end) for s in [\"MSFT\", \"GOOG\", \"FB\", \"TWTR\",\n",
    "                                                                                                 \"NFLX\", \"AMZN\", \"YHOO\", \"GE\",\n",
    "                                                                                                 \"QCOM\", \"IBM\", \"HPQ\"])"
   ]
  },
  {
   "cell_type": "code",
   "execution_count": null,
   "metadata": {},
   "outputs": [],
   "source": [
    "signals = ma_crossover_orders([(\"AAPL\", apple),\n",
    "                              (\"MSFT\",  microsoft),\n",
    "                              (\"GOOG\",  google),\n",
    "                              (\"FB\",    facebook),\n",
    "                              (\"TWTR\",  twitter),\n",
    "                              (\"NFLX\",  netflix),\n",
    "                              (\"AMZN\",  amazon),\n",
    "                              (\"YHOO\",  yahoo),\n",
    "                              (\"GE\",    ge),\n",
    "                              (\"QCOM\",  qualcomm),\n",
    "                              (\"IBM\",   ibm),\n",
    "                              (\"HPQ\",   hp)],\n",
    "                            fast = 20, slow = 50)\n",
    "signals"
   ]
  },
  {
   "cell_type": "code",
   "execution_count": null,
   "metadata": {},
   "outputs": [],
   "source": [
    "bk = backtest(signals, 1000000)\n",
    "bk"
   ]
  },
  {
   "cell_type": "code",
   "execution_count": null,
   "metadata": {},
   "outputs": [],
   "source": [
    "bk[\"Portfolio Value\"].groupby(level = 0).apply(lambda x: x[-1]).plot()"
   ]
  },
  {
   "cell_type": "markdown",
   "metadata": {},
   "source": [
    "A more realistic portfolio that can invest in any in a list of twelve (tech) stocks has a final growth of about 100%. How good is this? While on the surface not bad, we will see we could have done better.\n",
    "\n",
    "## Benchmarking\n",
    "\n",
    "Backtesting is only part of evaluating the efficacy of a trading strategy. We would like to **benchmark** the strategy, or compare it to other available (usually well-known) strategies in order to determine how well we have done.\n",
    "\n",
    "Whenever you evaluate a trading system, there is one strategy that you should always check, one that beats all but a handful of managed mutual funds and investment managers: buy and hold [SPY](https://finance.yahoo.com/quote/SPY). The **efficient market hypothesis** claims that it is all but impossible for anyone to beat the market. Thus, one should always buy an index fund that merely reflects the composition of the market.By buying and holding SPY, we are effectively trying to match our returns with the market rather than beat it.\n",
    "\n",
    "I look at the profits for simply buying and holding SPY."
   ]
  },
  {
   "cell_type": "code",
   "execution_count": null,
   "metadata": {},
   "outputs": [],
   "source": [
    "#spyder = web.DataReader(\"SPY\", \"yahoo\", start, end)\n",
    "spyder = spyderdat.loc[start:end]\n",
    "spyder.iloc[[0,-1],:]"
   ]
  },
  {
   "cell_type": "code",
   "execution_count": null,
   "metadata": {},
   "outputs": [],
   "source": [
    "batches = 1000000 // np.ceil(100 * spyder.loc[:,\"Adj Close\"].iloc[0]) # Maximum number of batches of stocks invested in\n",
    "trade_val = batches * batch * spyder.loc[:,\"Adj Close\"].iloc[0] # How much money is used to buy SPY\n",
    "final_val = batches * batch * spyder.loc[:,\"Adj Close\"].iloc[-1] + (1000000 - trade_val) # Final value of the portfolio\n",
    "final_val"
   ]
  },
  {
   "cell_type": "code",
   "execution_count": null,
   "metadata": {},
   "outputs": [],
   "source": [
    "# We see that the buy-and-hold strategy beats the strategy we developed earlier. I would also like to see a plot.\n",
    "ax_bench = (spyder[\"Adj Close\"] / spyder.loc[:, \"Adj Close\"].iloc[0]).plot(label = \"SPY\")\n",
    "ax_bench = (bk[\"Portfolio Value\"].groupby(level = 0).apply(lambda x: x[-1]) / 1000000).plot(ax = ax_bench, label = \"Portfolio\")\n",
    "ax_bench.legend(ax_bench.get_lines(), [l.get_label() for l in ax_bench.get_lines()], loc = 'best')\n",
    "ax_bench"
   ]
  },
  {
   "cell_type": "markdown",
   "metadata": {},
   "source": [
    "Buying and holding SPY beats our trading system, at least how we currently set it up, and we haven't even accounted for how expensive our more complex strategy is in terms of fees. Given both the opportunity cost and the expense associated with the active strategy, we should not use it.\n",
    "\n",
    "What could we do to improve the performance of our system? For starters, we could try diversifying. All the stocks we considered were tech companies, which means that if the tech industry is doing poorly, our portfolio will reflect that. We could try developing a system that can also short stocks or bet bearishly, so we can take advantage of movement in any direction. We could seek means for forecasting how high we expect a stock to move. Whatever we do, though, must beat this benchmark; otherwise there is an opportunity cost associated with our trading system.\n",
    "\n",
    "Other benchmark strategies exist, and if our trading system beat the \"buy and hold SPY\" strategy, we may check against them. Some such strategies include:\n",
    "\n",
    "* Buy SPY when its closing monthly price is aboves its ten-month moving average.\n",
    "* Buy SPY when its ten-month momentum is positive. (**Momentum** is the first difference of a moving average process, or $MO^q_t = MA^q_t - MA^q_{t - 1}$.)\n",
    "\n",
    "(I first read of these strategies [here](https://www.r-bloggers.com/are-r2s-useful-in-finance-hypothesis-driven-development-in-reverse/?utm_source=feedburner&utm_medium=email&utm_campaign=Feed%3A+RBloggers+%28R+bloggers%29).) The general lesson still holds: *don't use a complex trading system with lots of active trading when a simple strategy involving an index fund without frequent trading beats it.* [This is actually a very difficult requirement to meet.](http://www.nytimes.com/2015/03/15/your-money/how-many-mutual-funds-routinely-rout-the-market-zero.html?_r=0)\n",
    "\n",
    "As a final note, suppose that your trading system *did* manage to beat any baseline strategy thrown at it in backtesting. Does backtesting predict future performance? Not at all. [Backtesting has a propensity for overfitting](http://papers.ssrn.com/sol3/papers.cfm?abstract_id=2745220), so just because backtesting predicts high growth doesn't mean that growth will hold in the future. There are strategies for combatting overfitting, such as [walk-forward analysis](https://ntguardian.wordpress.com/2017/06/19/walk-forward-analysis-demonstration-backtrader/) and holding out a portion of a dataset (likely the most recent part) as a final test set to determine if a strategy is profitable, followed by \"sitting on\" a strategy that managed to survive these two filters and seeing if it remains profitable in current markets.\n",
    "\n",
    "## Conclusion\n",
    "\n",
    "While this lecture ends on a depressing note, keep in mind that [the efficient market hypothesis has many critics.](http://www.nytimes.com/2009/06/06/business/06nocera.html) My own opinion is that as trading becomes more algorithmic, beating the market will become more difficult. That said, it may be possible to beat the market, even though mutual funds seem incapable of doing so (bear in mind, though, that part of the reason mutual funds perform so poorly is because of fees, which is not a concern for index funds).\n",
    "\n",
    "This lecture is very brief, covering only one type of strategy: strategies based on moving averages. Many other trading signals exist and employed. Additionally, we never discussed in depth shorting stocks, currency trading, or stock options. Stock options, in particular, are a rich subject that offer many different ways to bet on the direction of a stock. You can read more about derivatives (including stock options and other derivatives) in the book *Derivatives Analytics with Python: Data Analysis, Models, Simulation, Calibration and Hedging*, [which is available from the University of Utah library.](http://proquest.safaribooksonline.com.ezproxy.lib.utah.edu/9781119037996)\n",
    "\n",
    "Another resource (which I used as a reference while writing this lecture) is the O'Reilly book *Python for Finance*, [also available from the University of Utah library.](http://proquest.safaribooksonline.com.ezproxy.lib.utah.edu/book/programming/python/9781491945360)\n",
    "\n",
    "If you were interested in investigating algorithmic trading, where would you go from here? I would not recommend using the code I wrote above for backtesting; there are better packages for this task. Python has some libraries for algorithmic trading, such as [**pyfolio**](https://quantopian.github.io/pyfolio/) (for analytics), [**zipline**](http://www.zipline.io/beginner-tutorial.html) (for backtesting and algorithmic trading), and [**backtrader**](https://www.backtrader.com/) (also for backtesting and trading). **zipline** seems to be popular likely because it is used and developed by [**quantopian**](https://www.quantopian.com/), a \"crowd-sourced hedge fund\" that allows users to use their data for backtesting and even will license profitable strategies from their authors, giving them a cut of the profits. However, I prefer **backtrader** and have written [blog posts](https://ntguardian.wordpress.com/tag/backtrader/) on using it. It is likely the more complicated between the two but that's the cost of greater power. I am a fan of its design. I also would suggest learning [R](https://www.r-project.org/), since it has many packages for analyzing financial data (moreso than Python) and it's surprisingly easy to use R functions in Python (as I demonstrate in [this post](https://ntguardian.wordpress.com/2017/06/28/stock-trading-analytics-and-optimization-in-python-with-pyfolio-rs-performanceanalytics-and-backtrader/)).\n",
    "\n",
    "You can read more about using R and Python for finance on [my blog](https://ntguardian.wordpress.com).\n",
    "\n",
    "Remember that it is possible (if not common) to lose money in the stock market. It's also true, though, that it's difficult to find returns like those found in stocks, and any investment strategy should take investing in it seriously. This lecture is intended to provide a starting point for evaluating stock trading and investments, and, more generally, analyzing temporal data, and I hope you continue to explore these ideas."
   ]
  }
 ],
 "metadata": {
  "anaconda-cloud": {},
  "kernelspec": {
   "display_name": "Python 3",
   "language": "python",
   "name": "python3"
  },
  "language_info": {
   "codemirror_mode": {
    "name": "ipython",
    "version": 3
   },
   "file_extension": ".py",
   "mimetype": "text/x-python",
   "name": "python",
   "nbconvert_exporter": "python",
   "pygments_lexer": "ipython3",
   "version": "3.6.3"
  }
 },
 "nbformat": 4,
 "nbformat_minor": 1
}
