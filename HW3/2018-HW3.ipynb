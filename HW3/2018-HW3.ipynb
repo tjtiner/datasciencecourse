{
 "cells": [
  {
   "cell_type": "markdown",
   "metadata": {},
   "source": [
    "# Introduction to Data Science - Homework 3\n",
    "*COMP 5369 / MATH 4100, University of Utah, http://datasciencecourse.net/*\n",
    "\n",
    "Due: Friday, February 2, 11:59pm.\n",
    "\n",
    "In this homework you will read in and analyze a movies dataset. First we'll do some basic analysis with vanilla Python, then we'll move on to doing more advanced analysis with [Pandas](http://pandas.pydata.org/pandas-docs/stable). "
   ]
  },
  {
   "cell_type": "markdown",
   "metadata": {},
   "source": [
    "## Your Data\n",
    "Fill out the following information: \n",
    "\n",
    "*First Name:* Travis  \n",
    "*Last Name:* Tiner  \n",
    "*E-mail:* u0769566@utah.edu  \n",
    "*UID:*  u0769566\n"
   ]
  },
  {
   "cell_type": "markdown",
   "metadata": {},
   "source": [
    "## Part 1: Analyzing Data The Hard Way"
   ]
  },
  {
   "cell_type": "markdown",
   "metadata": {},
   "source": [
    "In this part we'll do some manual analysis of a movies dataset."
   ]
  },
  {
   "cell_type": "markdown",
   "metadata": {
    "collapsed": true
   },
   "source": [
    "### Task 1.1: Read in the data\n",
    "\n",
    "Parse the file [movies.csv](movies.csv) using the [csv library](https://docs.python.org/3/library/csv.html). Lecture 6 and/or Homework 2 might be a good inspiration for this. \n",
    "\n",
    "We recommend that you store the header in a separate array. Make sure that at least the \"ratings\" and the \"votes\" columns are cast to the appropriate data types for doing calculations with them. \n",
    "\n",
    "Print the header, a row of the table, and the number of rows and columns."
   ]
  },
  {
   "cell_type": "code",
   "execution_count": 1,
   "metadata": {},
   "outputs": [
    {
     "name": "stdout",
     "output_type": "stream",
     "text": [
      "['', 'title', 'year', 'length', 'budget', 'rating', 'votes', 'r1', 'r2', 'r3', 'r4', 'r5', 'r6', 'r7', 'r8', 'r9', 'r10', 'mpaa', 'Action', 'Animation', 'Comedy', 'Drama', 'Documentary', 'Romance', 'Short']\n",
      "['1', '$', '1971', '121', 'NA', 6.4, 348, '4.5', '4.5', '4.5', '4.5', '14.5', '24.5', '24.5', '14.5', '4.5', '4.5', '', '0', '0', '1', '1', '0', '0', '0']\n",
      "The number of columns is 25\n",
      "The number of rows is 58788\n"
     ]
    }
   ],
   "source": [
    "# import the csv library\n",
    "import csv\n",
    "movies = []\n",
    "with open('movies.csv') as csvfile:\n",
    "    filereader = csv.reader(csvfile, delimiter=',', quotechar='\"')\n",
    "    for row in filereader:\n",
    "        movies.append(row)\n",
    "        \n",
    "header = movies.pop(0)\n",
    "\n",
    "for row in movies: \n",
    "    row[5] = float(row[5])\n",
    "    row[6] = int(row[6])\n",
    "print(header)\n",
    "print(movies[0])\n",
    "print(\"The number of columns is \" + str(len(movies[0])))\n",
    "print(\"The number of rows is \" + str(len(movies)))"
   ]
  },
  {
   "cell_type": "markdown",
   "metadata": {
    "collapsed": true
   },
   "source": [
    "### Task 1.2:  Calculate movie stats\n",
    "\n",
    "In this task, you will calculate some statistics about movies. We suggest you implement your solutions for Tasks 1.2.1-1.2.3 in one code cell - you should be able to calculate this in a single iteration over the dataset.\n",
    "\n",
    "#### Task 1.2.1 Calcualte average ratings\n",
    "Compute the average rating for the movies and print the output. Also print the number of movies.\n",
    "Your output could look like this:\n",
    "    \n",
    "    Average rating: xxx.xxxx, Number of movies: xx\n",
    "\n",
    "#### Task 1.2.2: Calculate average rating for major movies\n",
    "\n",
    "Compute the average rating for the movies that have more than 500 votes in your loaded dataset and print the output. (We'll call these movies with more than 500 votes *major movies* from now on).\n",
    "\n",
    "Your output could look like this:\n",
    "    \n",
    "    Average rating of movies with more than 500 votes: xxx.xxxx, Number of major movies: xx\n",
    "\n",
    "#### Task 1.2.3: Find the highest rated major movie\n",
    "\n",
    "Find out which of the movies with more than 500 votes has the highest rating.\n",
    "\n",
    "Your output could look like this:\n",
    "    \n",
    "    Highest rating: xxx.xxxx, Title: MOVIE TITLE\n",
    " \n",
    "#### Task 1.2.4: Interpret the data\n",
    " * What's the size relationship of major movies to all movies?\n",
    " * Are major movies usually better than the average movies?"
   ]
  },
  {
   "cell_type": "code",
   "execution_count": 2,
   "metadata": {},
   "outputs": [
    {
     "name": "stdout",
     "output_type": "stream",
     "text": [
      "Average rating: 5.933, Number of movies: 58788\n",
      "Average rating of movies with more than 500 votes: 6.371, Number of movies with more than 500 votes: 6458\n",
      "Highest rating: 10.0, Title: Dimensia Minds Trilogy: The Hope Factor\n"
     ]
    }
   ],
   "source": [
    "\n",
    "sum = 0\n",
    "count = 0\n",
    "summajor = 0\n",
    "countmajor = 0\n",
    "highest = 0\n",
    "for i in range(0,len(movies)):\n",
    "    sum += movies[i][5]\n",
    "    count += 1\n",
    "    if movies[i][6] > 500:\n",
    "        summajor += movies[i][5]\n",
    "        countmajor += 1\n",
    "    if movies[i][5] > highest:\n",
    "        highest = movies[i][5]\n",
    "        name_of_highest = movies[i][1]\n",
    "\n",
    "\n",
    "print(\"Average rating: \" + str(round(sum/count,3)) + \", Number of movies: \" + str(count))\n",
    "print(\"Average rating of movies with more than 500 votes: \" + str(round(summajor/countmajor, 3)) + \", Number of movies with more than 500 votes: \" + str(countmajor))\n",
    "print(\"Highest rating: \" + str(highest) + \", Title: \" + name_of_highest)\n"
   ]
  },
  {
   "cell_type": "markdown",
   "metadata": {},
   "source": [
    "**Your Interpretation**: TODO"
   ]
  },
  {
   "cell_type": "markdown",
   "metadata": {},
   "source": [
    "There is about 10 times more total movies than movies with more than 500 votes. The major movies had a higher average score by about .437 points "
   ]
  },
  {
   "cell_type": "markdown",
   "metadata": {},
   "source": [
    "## Part 2: Pandas"
   ]
  },
  {
   "cell_type": "markdown",
   "metadata": {
    "collapsed": true
   },
   "source": [
    "In this part we will use the [Pandas library](http://pandas.pydata.org/pandas-docs/stable) for our analysis."
   ]
  },
  {
   "cell_type": "markdown",
   "metadata": {
    "collapsed": true
   },
   "source": [
    "### Task 2.1: Loading data\n",
    "\n",
    "Read in the data again. This time you should create a [Pandas DataFrame](http://pandas.pydata.org/pandas-docs/stable/generated/pandas.DataFrame.html). Print the head of the dataset. \n",
    " * How many data rows did you load? How many columns?\n",
    " * Of which data types are the columns? \n",
    " * Do you have to do manual data type conversions?"
   ]
  },
  {
   "cell_type": "code",
   "execution_count": 3,
   "metadata": {},
   "outputs": [
    {
     "data": {
      "text/html": [
       "<div>\n",
       "<style>\n",
       "    .dataframe thead tr:only-child th {\n",
       "        text-align: right;\n",
       "    }\n",
       "\n",
       "    .dataframe thead th {\n",
       "        text-align: left;\n",
       "    }\n",
       "\n",
       "    .dataframe tbody tr th {\n",
       "        vertical-align: top;\n",
       "    }\n",
       "</style>\n",
       "<table border=\"1\" class=\"dataframe\">\n",
       "  <thead>\n",
       "    <tr style=\"text-align: right;\">\n",
       "      <th></th>\n",
       "      <th>Unnamed: 0</th>\n",
       "      <th>title</th>\n",
       "      <th>year</th>\n",
       "      <th>length</th>\n",
       "      <th>budget</th>\n",
       "      <th>rating</th>\n",
       "      <th>votes</th>\n",
       "      <th>r1</th>\n",
       "      <th>r2</th>\n",
       "      <th>r3</th>\n",
       "      <th>...</th>\n",
       "      <th>r9</th>\n",
       "      <th>r10</th>\n",
       "      <th>mpaa</th>\n",
       "      <th>Action</th>\n",
       "      <th>Animation</th>\n",
       "      <th>Comedy</th>\n",
       "      <th>Drama</th>\n",
       "      <th>Documentary</th>\n",
       "      <th>Romance</th>\n",
       "      <th>Short</th>\n",
       "    </tr>\n",
       "  </thead>\n",
       "  <tbody>\n",
       "    <tr>\n",
       "      <th>0</th>\n",
       "      <td>1</td>\n",
       "      <td>$</td>\n",
       "      <td>1971</td>\n",
       "      <td>121</td>\n",
       "      <td>NaN</td>\n",
       "      <td>6.4</td>\n",
       "      <td>348</td>\n",
       "      <td>4.5</td>\n",
       "      <td>4.5</td>\n",
       "      <td>4.5</td>\n",
       "      <td>...</td>\n",
       "      <td>4.5</td>\n",
       "      <td>4.5</td>\n",
       "      <td>NaN</td>\n",
       "      <td>0</td>\n",
       "      <td>0</td>\n",
       "      <td>1</td>\n",
       "      <td>1</td>\n",
       "      <td>0</td>\n",
       "      <td>0</td>\n",
       "      <td>0</td>\n",
       "    </tr>\n",
       "    <tr>\n",
       "      <th>1</th>\n",
       "      <td>2</td>\n",
       "      <td>$1000 a Touchdown</td>\n",
       "      <td>1939</td>\n",
       "      <td>71</td>\n",
       "      <td>NaN</td>\n",
       "      <td>6.0</td>\n",
       "      <td>20</td>\n",
       "      <td>0.0</td>\n",
       "      <td>14.5</td>\n",
       "      <td>4.5</td>\n",
       "      <td>...</td>\n",
       "      <td>4.5</td>\n",
       "      <td>14.5</td>\n",
       "      <td>NaN</td>\n",
       "      <td>0</td>\n",
       "      <td>0</td>\n",
       "      <td>1</td>\n",
       "      <td>0</td>\n",
       "      <td>0</td>\n",
       "      <td>0</td>\n",
       "      <td>0</td>\n",
       "    </tr>\n",
       "    <tr>\n",
       "      <th>2</th>\n",
       "      <td>3</td>\n",
       "      <td>$21 a Day Once a Month</td>\n",
       "      <td>1941</td>\n",
       "      <td>7</td>\n",
       "      <td>NaN</td>\n",
       "      <td>8.2</td>\n",
       "      <td>5</td>\n",
       "      <td>0.0</td>\n",
       "      <td>0.0</td>\n",
       "      <td>0.0</td>\n",
       "      <td>...</td>\n",
       "      <td>24.5</td>\n",
       "      <td>24.5</td>\n",
       "      <td>NaN</td>\n",
       "      <td>0</td>\n",
       "      <td>1</td>\n",
       "      <td>0</td>\n",
       "      <td>0</td>\n",
       "      <td>0</td>\n",
       "      <td>0</td>\n",
       "      <td>1</td>\n",
       "    </tr>\n",
       "    <tr>\n",
       "      <th>3</th>\n",
       "      <td>4</td>\n",
       "      <td>$40,000</td>\n",
       "      <td>1996</td>\n",
       "      <td>70</td>\n",
       "      <td>NaN</td>\n",
       "      <td>8.2</td>\n",
       "      <td>6</td>\n",
       "      <td>14.5</td>\n",
       "      <td>0.0</td>\n",
       "      <td>0.0</td>\n",
       "      <td>...</td>\n",
       "      <td>34.5</td>\n",
       "      <td>45.5</td>\n",
       "      <td>NaN</td>\n",
       "      <td>0</td>\n",
       "      <td>0</td>\n",
       "      <td>1</td>\n",
       "      <td>0</td>\n",
       "      <td>0</td>\n",
       "      <td>0</td>\n",
       "      <td>0</td>\n",
       "    </tr>\n",
       "    <tr>\n",
       "      <th>4</th>\n",
       "      <td>5</td>\n",
       "      <td>$50,000 Climax Show, The</td>\n",
       "      <td>1975</td>\n",
       "      <td>71</td>\n",
       "      <td>NaN</td>\n",
       "      <td>3.4</td>\n",
       "      <td>17</td>\n",
       "      <td>24.5</td>\n",
       "      <td>4.5</td>\n",
       "      <td>0.0</td>\n",
       "      <td>...</td>\n",
       "      <td>0.0</td>\n",
       "      <td>24.5</td>\n",
       "      <td>NaN</td>\n",
       "      <td>0</td>\n",
       "      <td>0</td>\n",
       "      <td>0</td>\n",
       "      <td>0</td>\n",
       "      <td>0</td>\n",
       "      <td>0</td>\n",
       "      <td>0</td>\n",
       "    </tr>\n",
       "  </tbody>\n",
       "</table>\n",
       "<p>5 rows × 25 columns</p>\n",
       "</div>"
      ],
      "text/plain": [
       "   Unnamed: 0                     title  year  length  budget  rating  votes  \\\n",
       "0           1                         $  1971     121     NaN     6.4    348   \n",
       "1           2         $1000 a Touchdown  1939      71     NaN     6.0     20   \n",
       "2           3    $21 a Day Once a Month  1941       7     NaN     8.2      5   \n",
       "3           4                   $40,000  1996      70     NaN     8.2      6   \n",
       "4           5  $50,000 Climax Show, The  1975      71     NaN     3.4     17   \n",
       "\n",
       "     r1    r2   r3  ...      r9   r10  mpaa  Action  Animation  Comedy  Drama  \\\n",
       "0   4.5   4.5  4.5  ...     4.5   4.5   NaN       0          0       1      1   \n",
       "1   0.0  14.5  4.5  ...     4.5  14.5   NaN       0          0       1      0   \n",
       "2   0.0   0.0  0.0  ...    24.5  24.5   NaN       0          1       0      0   \n",
       "3  14.5   0.0  0.0  ...    34.5  45.5   NaN       0          0       1      0   \n",
       "4  24.5   4.5  0.0  ...     0.0  24.5   NaN       0          0       0      0   \n",
       "\n",
       "  Documentary  Romance  Short  \n",
       "0           0        0      0  \n",
       "1           0        0      0  \n",
       "2           0        0      1  \n",
       "3           0        0      0  \n",
       "4           0        0      0  \n",
       "\n",
       "[5 rows x 25 columns]"
      ]
     },
     "execution_count": 3,
     "metadata": {},
     "output_type": "execute_result"
    }
   ],
   "source": [
    "# import pansas and numpy\n",
    "import pandas as pd\n",
    "\n",
    "pdmovies = pd.read_csv(\"movies.csv\")\n",
    "pdmovies.head()"
   ]
  },
  {
   "cell_type": "code",
   "execution_count": 4,
   "metadata": {},
   "outputs": [
    {
     "name": "stdout",
     "output_type": "stream",
     "text": [
      "<class 'pandas.core.frame.DataFrame'>\n",
      "RangeIndex: 58788 entries, 0 to 58787\n",
      "Data columns (total 25 columns):\n",
      "Unnamed: 0     58788 non-null int64\n",
      "title          58788 non-null object\n",
      "year           58788 non-null int64\n",
      "length         58788 non-null int64\n",
      "budget         5215 non-null float64\n",
      "rating         58788 non-null float64\n",
      "votes          58788 non-null int64\n",
      "r1             58788 non-null float64\n",
      "r2             58788 non-null float64\n",
      "r3             58788 non-null float64\n",
      "r4             58788 non-null float64\n",
      "r5             58788 non-null float64\n",
      "r6             58788 non-null float64\n",
      "r7             58788 non-null float64\n",
      "r8             58788 non-null float64\n",
      "r9             58788 non-null float64\n",
      "r10            58788 non-null float64\n",
      "mpaa           4924 non-null object\n",
      "Action         58788 non-null int64\n",
      "Animation      58788 non-null int64\n",
      "Comedy         58788 non-null int64\n",
      "Drama          58788 non-null int64\n",
      "Documentary    58788 non-null int64\n",
      "Romance        58788 non-null int64\n",
      "Short          58788 non-null int64\n",
      "dtypes: float64(12), int64(11), object(2)\n",
      "memory usage: 11.2+ MB\n"
     ]
    }
   ],
   "source": [
    "pdmovies.info()"
   ]
  },
  {
   "cell_type": "markdown",
   "metadata": {},
   "source": [
    "**Your Interpretation**: TODO"
   ]
  },
  {
   "cell_type": "markdown",
   "metadata": {},
   "source": [
    "We loaded 58788 rows, and 25 columns. The data types appear above for all of the columns. It doesn't appear like we'll need to do any manual data type conversions."
   ]
  },
  {
   "cell_type": "markdown",
   "metadata": {},
   "source": [
    "### Task 2.2: Calculate the average rating\n",
    "\n",
    "Compute the average rating for all movies and print the output in a formatted way.\n",
    "\n",
    "Your output could look like this:\n",
    "    \n",
    "    Average rating: xxx.xxxx"
   ]
  },
  {
   "cell_type": "code",
   "execution_count": 5,
   "metadata": {},
   "outputs": [
    {
     "name": "stdout",
     "output_type": "stream",
     "text": [
      "Average rating: 5.933\n"
     ]
    }
   ],
   "source": [
    "print(\"Average rating: \" + str(round(pdmovies[\"rating\"].mean(),3)))"
   ]
  },
  {
   "cell_type": "markdown",
   "metadata": {},
   "source": [
    "### Task 2.3: Compare the runtime\n",
    "\n",
    "Measure the runtime of the mean calculation using [Pandas](http://pandas.pydata.org/pandas-docs/stable) and compare it to the computation time for calculating the mean using a for loop (you can copy the relevant parts from part one).\n",
    "\n",
    "You can use [time.clock()](https://docs.python.org/3/library/time.html) to set timestamps before and after the execution of the code you want to measure, then you simply substract end time from start time.\n",
    "\n",
    "Print your results in a human readable way and add a metric to the output. Calculate the factor of the difference and print it. Note that the exact times and the factors will vary when you re-run this and especially between machines. \n",
    "\n",
    "E.g.:  \n",
    "    time using own code: xxx.xxx s  \n",
    "    time using Pandas: xxx.xxx s  \n",
    "    difference factor: xxx"
   ]
  },
  {
   "cell_type": "code",
   "execution_count": 6,
   "metadata": {},
   "outputs": [
    {
     "name": "stdout",
     "output_type": "stream",
     "text": [
      "time using own code: 0.035505999999999815 s\n",
      "time using Pandas: 0.0004810000000006198 s\n",
      "difference factor: 73.81704781695231\n"
     ]
    }
   ],
   "source": [
    "import time\n",
    "sum = 0\n",
    "count = 0\n",
    "stime_loop = time.clock()\n",
    "for i in range(0,len(movies)):\n",
    "    sum += movies[i][5]\n",
    "    count += 1\n",
    "loop_mean = sum/count\n",
    "etime_loop = time.clock()\n",
    "loop_time = etime_loop - stime_loop\n",
    "print(\"time using own code: \" + str(loop_time) + \" s\")\n",
    "\n",
    "stime_pd = time.clock()\n",
    "pdmovies[\"rating\"].mean()\n",
    "etime_pd = time.clock()\n",
    "pd_time = etime_pd - stime_pd\n",
    "print(\"time using Pandas: \" + str(pd_time) + \" s\")\n",
    "\n",
    "print(\"difference factor: \" + str(loop_time/pd_time))"
   ]
  },
  {
   "cell_type": "markdown",
   "metadata": {},
   "source": [
    "### Task 2.4: Filter out rows\n",
    "\n",
    "The whole movies dataset has about 60k entries. Use pandas to filter your dataframe to contain only the major movies with more than 500 votes.\n",
    "\n",
    "Count and print the number of movies with more than 500 votes. \n",
    "\n",
    "E.g.:\n",
    "    xxx.xxx movies have more than 500 votes."
   ]
  },
  {
   "cell_type": "code",
   "execution_count": 7,
   "metadata": {},
   "outputs": [
    {
     "name": "stdout",
     "output_type": "stream",
     "text": [
      "6458 movies have more than 500 votes.\n"
     ]
    }
   ],
   "source": [
    "major_movies = pdmovies[pdmovies[\"votes\"]>500]\n",
    "print(str(len(major_movies)) + \" movies have more than 500 votes.\")"
   ]
  },
  {
   "cell_type": "markdown",
   "metadata": {},
   "source": [
    "### Task 2.5: Calculate the average rating for major movies\n",
    "\n",
    "Compute the average rating for the major movies.\n",
    "Your output could look like this:\n",
    "    \n",
    "    Average rating of movies with more than 500 votes: xxx.xxxx"
   ]
  },
  {
   "cell_type": "code",
   "execution_count": 8,
   "metadata": {},
   "outputs": [
    {
     "name": "stdout",
     "output_type": "stream",
     "text": [
      "Average rating of movies with more than 500 votes: 6.371\n"
     ]
    }
   ],
   "source": [
    "print(\"Average rating of movies with more than 500 votes: \" + str(round(major_movies[\"rating\"].mean(),3)))"
   ]
  },
  {
   "cell_type": "markdown",
   "metadata": {},
   "source": [
    "### Task 2.6: Find the highest rated major movie\n",
    "\n",
    "Find the highest rated major movie in the dataframe. Hint: [idxmax()](http://pandas.pydata.org/pandas-docs/stable/generated/pandas.Series.idxmax.html) could be a helpful function. \n",
    "\n",
    "Print the title and the rating.\n",
    "\n",
    "Your output could look like this:\n",
    "    \n",
    "    Highest rated movie: TITLE, rating: x.x\n"
   ]
  },
  {
   "cell_type": "code",
   "execution_count": 9,
   "metadata": {
    "scrolled": true
   },
   "outputs": [
    {
     "name": "stdout",
     "output_type": "stream",
     "text": [
      "Highest rated movie: Godfather, The, rating: 9.1\n"
     ]
    }
   ],
   "source": [
    "highest_rating = pdmovies.iloc[major_movies[\"rating\"].idxmax()][5]\n",
    "highest_rated_title = pdmovies.iloc[major_movies[\"rating\"].idxmax()][1]\n",
    "print(\"Highest rated movie: \" + highest_rated_title + \", rating: \" + str(highest_rating))"
   ]
  },
  {
   "cell_type": "markdown",
   "metadata": {},
   "source": [
    "### Task 2.7: Filter out rows and count specific features\n",
    "\n",
    "From the major movies you filtered out in a previous task, find out \n",
    " * How many are comedies.\n",
    " * How many are dramas\n",
    " * How many are both, comedies and dramas\n",
    " \n",
    "Create new dataframed for each of these subsets.\n",
    "\n",
    "Hint: you can combine broadcasting statements with a boolean AND: `&`.\n",
    "\n",
    "Print the results, e.g.:  \n",
    "\n",
    "    xxx.xxx major movies are comedies.\n",
    "    xxx.xxx major movies are dramas.\n",
    "    xxx.xxx major movies are both, comedies and dramas."
   ]
  },
  {
   "cell_type": "code",
   "execution_count": 10,
   "metadata": {},
   "outputs": [
    {
     "name": "stdout",
     "output_type": "stream",
     "text": [
      "2553 major movies are comedies.\n",
      "3370 major movies are dramas.\n",
      "814 major movies are both comedies and dramas.\n"
     ]
    }
   ],
   "source": [
    "comedy_movies = major_movies[major_movies[\"Comedy\"]==1]\n",
    "drama_movies = major_movies[major_movies[\"Drama\"]==1]\n",
    "comedy_and_drama = major_movies[(major_movies[\"Drama\"]==1) & (major_movies[\"Comedy\"]==1)]\n",
    "print(str(len(comedy_movies)) + \" major movies are comedies.\")\n",
    "print(str(len(drama_movies)) + \" major movies are dramas.\")\n",
    "print(str(len(comedy_and_drama)) + \" major movies are both comedies and dramas.\")"
   ]
  },
  {
   "cell_type": "markdown",
   "metadata": {},
   "source": [
    "### Task 2.8: Compare ratings of different categories\n",
    "\n",
    "Now we want to compare the ratings for comedies and dramas for major movies.\n",
    "\n",
    "Compute the average rating, maximum rating, minimum rating, standard deviation, and the median for each category. Hint: there is a function that does all of this in one line. \n",
    "\n",
    "What do these numbers tell us? Provide an interpretation."
   ]
  },
  {
   "cell_type": "code",
   "execution_count": 11,
   "metadata": {},
   "outputs": [
    {
     "name": "stdout",
     "output_type": "stream",
     "text": [
      "Comedy rating statistics: \n",
      "count    2553.000000\n",
      "mean        6.121387\n",
      "std         1.196146\n",
      "min         1.700000\n",
      "50%         6.200000\n",
      "max         8.700000\n",
      "Name: rating, dtype: float64\n",
      "\n",
      "Drama rating statistics: \n",
      "count    3370.000000\n",
      "mean        6.749614\n",
      "std         0.990969\n",
      "min         1.300000\n",
      "50%         6.900000\n",
      "max         9.100000\n",
      "Name: rating, dtype: float64\n",
      "\n",
      "Drama and Comedy rating statistics: \n",
      "count    814.000000\n",
      "mean       6.566216\n",
      "std        0.968547\n",
      "min        1.800000\n",
      "50%        6.700000\n",
      "max        8.600000\n",
      "Name: rating, dtype: float64\n"
     ]
    }
   ],
   "source": [
    "print(\"Comedy rating statistics: \\n\" + str(comedy_movies.rating.describe(percentiles = [.5])))\n",
    "print(\"\\nDrama rating statistics: \\n\" + str(drama_movies.rating.describe(percentiles = [.5])))\n",
    "print(\"\\nDrama and Comedy rating statistics: \\n\" + str(comedy_and_drama.rating.describe(percentiles = [.5])))"
   ]
  },
  {
   "cell_type": "markdown",
   "metadata": {},
   "source": [
    "**Your Interpretation**: TODO"
   ]
  },
  {
   "cell_type": "markdown",
   "metadata": {},
   "source": [
    "We can see from this data that drama's are typically rated higher than comedies, and that when a drama introduces comedy to it, it's average rating goes down. All of these categories are skewed left, pulling the mean lower than the median. This is probably because we have some outliers with really low ratings. "
   ]
  },
  {
   "cell_type": "markdown",
   "metadata": {},
   "source": [
    "### Task 2.9: Movies per year\n",
    "\n",
    "Calcluate how many major movies were made in each year.\n",
    "\n",
    "Print the number like this, sorted by year:\n",
    "\n",
    "    year   number of movies\n",
    "    1902    xxx\n",
    "    1903    xxx\n",
    "    ...     ...\n",
    "\n",
    "Use this data to render a line chart of the number of movies per year."
   ]
  },
  {
   "cell_type": "code",
   "execution_count": 12,
   "metadata": {},
   "outputs": [
    {
     "data": {
      "text/html": [
       "<div>\n",
       "<style>\n",
       "    .dataframe thead tr:only-child th {\n",
       "        text-align: right;\n",
       "    }\n",
       "\n",
       "    .dataframe thead th {\n",
       "        text-align: left;\n",
       "    }\n",
       "\n",
       "    .dataframe tbody tr th {\n",
       "        vertical-align: top;\n",
       "    }\n",
       "</style>\n",
       "<table border=\"1\" class=\"dataframe\">\n",
       "  <thead>\n",
       "    <tr style=\"text-align: right;\">\n",
       "      <th></th>\n",
       "      <th>number of movies</th>\n",
       "    </tr>\n",
       "    <tr>\n",
       "      <th>year</th>\n",
       "      <th></th>\n",
       "    </tr>\n",
       "  </thead>\n",
       "  <tbody>\n",
       "    <tr>\n",
       "      <th>1902</th>\n",
       "      <td>1</td>\n",
       "    </tr>\n",
       "    <tr>\n",
       "      <th>1903</th>\n",
       "      <td>1</td>\n",
       "    </tr>\n",
       "    <tr>\n",
       "      <th>1915</th>\n",
       "      <td>1</td>\n",
       "    </tr>\n",
       "    <tr>\n",
       "      <th>1916</th>\n",
       "      <td>1</td>\n",
       "    </tr>\n",
       "    <tr>\n",
       "      <th>1917</th>\n",
       "      <td>1</td>\n",
       "    </tr>\n",
       "  </tbody>\n",
       "</table>\n",
       "</div>"
      ],
      "text/plain": [
       "      number of movies\n",
       "year                  \n",
       "1902                 1\n",
       "1903                 1\n",
       "1915                 1\n",
       "1916                 1\n",
       "1917                 1"
      ]
     },
     "execution_count": 12,
     "metadata": {},
     "output_type": "execute_result"
    }
   ],
   "source": [
    "movies_per_year = major_movies[\"year\"].value_counts()\n",
    "movies_per_year = movies_per_year.to_frame()\n",
    "movies_per_year = movies_per_year.reset_index(level=0)\n",
    "movies_per_year.columns = [\"year\",\"number of movies\"]\n",
    "movies_per_year = movies_per_year.sort_values(\"year\")\n",
    "movies_per_year = movies_per_year.set_index(\"year\")\n",
    "movies_per_year.head()"
   ]
  },
  {
   "cell_type": "code",
   "execution_count": 13,
   "metadata": {},
   "outputs": [
    {
     "data": {
      "text/plain": [
       "[<matplotlib.lines.Line2D at 0x1116e1518>]"
      ]
     },
     "execution_count": 13,
     "metadata": {},
     "output_type": "execute_result"
    },
    {
     "data": {
      "image/png": "[encoded data removed]",
      "text/plain": [
       "<matplotlib.figure.Figure at 0x111e24e80>"
      ]
     },
     "metadata": {},
     "output_type": "display_data"
    }
   ],
   "source": [
    "import matplotlib.pyplot as plt\n",
    "%matplotlib inline\n",
    "plt.title(\"Movies per year\")\n",
    "plt.plot(movies_per_year)\n"
   ]
  },
  {
   "cell_type": "markdown",
   "metadata": {},
   "source": [
    "### Task 2.10: Yearly average\n",
    "\n",
    "Compute the average rating per year for all major movies.  \n",
    "Use the numbers you computed to plot a line chart. Plot the year on the x-axis and the average rating on th y axis.  "
   ]
  },
  {
   "cell_type": "code",
   "execution_count": 14,
   "metadata": {},
   "outputs": [
    {
     "data": {
      "text/plain": [
       "<matplotlib.axes._subplots.AxesSubplot at 0x1116dd080>"
      ]
     },
     "execution_count": 14,
     "metadata": {},
     "output_type": "execute_result"
    },
    {
     "data": {
      "image/png": "[encoded data removed]",
      "text/plain": [
       "<matplotlib.figure.Figure at 0x111723438>"
      ]
     },
     "metadata": {},
     "output_type": "display_data"
    }
   ],
   "source": [
    "avg_rating_per_year = major_movies.groupby(\"year\").rating.mean()\n",
    "avg_rating_per_year = avg_rating_per_year.to_frame()\n",
    "avg_rating_per_year = avg_rating_per_year.reset_index(level=0)\n",
    "avg_rating_per_year.columns = [\"year\",\"average rating\"]\n",
    "avg_rating_per_year.plot(x=\"year\",y=\"average rating\")"
   ]
  },
  {
   "cell_type": "markdown",
   "metadata": {},
   "source": [
    "### Task 2.11: Explore and Interpret\n",
    "\n",
    "Are old movies better? How could you explain this? Are there differences between the rating of major movies and all movies over time? Continue to explore and use plots to inform your answer. Interesting measures to consider are the total number of votes per year, the average number of votes for a movie in a particular year, etc. "
   ]
  },
  {
   "cell_type": "code",
   "execution_count": 15,
   "metadata": {},
   "outputs": [
    {
     "data": {
      "text/plain": [
       "<matplotlib.axes._subplots.AxesSubplot at 0x1116864a8>"
      ]
     },
     "execution_count": 15,
     "metadata": {},
     "output_type": "execute_result"
    },
    {
     "data": {
      "image/png": "[encoded data removed]",
      "text/plain": [
       "<matplotlib.figure.Figure at 0x11165f630>"
      ]
     },
     "metadata": {},
     "output_type": "display_data"
    }
   ],
   "source": [
    "votes_per_year = major_movies[[\"year\",\"votes\"]]\n",
    "votes_per_year = votes_per_year.groupby(\"year\").sum()\n",
    "votes_per_year.plot()"
   ]
  },
  {
   "cell_type": "markdown",
   "metadata": {},
   "source": [
    "This shows that there has been a large spike in the total number of votes per year, starting around 1990. But this may have just been because of an increase in movies being made. To account for this, we should see the average number of votes a movie receives, broken down by year."
   ]
  },
  {
   "cell_type": "code",
   "execution_count": 16,
   "metadata": {},
   "outputs": [
    {
     "data": {
      "text/plain": [
       "<matplotlib.axes._subplots.AxesSubplot at 0x11161dc88>"
      ]
     },
     "execution_count": 16,
     "metadata": {},
     "output_type": "execute_result"
    },
    {
     "data": {
      "image/png": "[encoded data removed]",
      "text/plain": [
       "<matplotlib.figure.Figure at 0x111558e80>"
      ]
     },
     "metadata": {},
     "output_type": "display_data"
    }
   ],
   "source": [
    "result = pd.concat([movies_per_year,votes_per_year], axis=1)\n",
    "result['votes per movie per year'] = result[\"votes\"]/result[\"number of movies\"]\n",
    "result.plot(y=\"votes per movie per year\")"
   ]
  },
  {
   "cell_type": "markdown",
   "metadata": {},
   "source": [
    "So this isn't nearly as dramatic, but you can still see that movies on average are receiving more ratings as time goes on, with a specifically high peak around the year 2000. This may be a reason why movies are getting lower scores. "
   ]
  },
  {
   "cell_type": "markdown",
   "metadata": {},
   "source": [
    "**TODO: your code and your interpretation**"
   ]
  }
 ],
 "metadata": {
  "anaconda-cloud": {},
  "kernelspec": {
   "display_name": "Python 3",
   "language": "python",
   "name": "python3"
  },
  "language_info": {
   "codemirror_mode": {
    "name": "ipython",
    "version": 3
   },
   "file_extension": ".py",
   "mimetype": "text/x-python",
   "name": "python",
   "nbconvert_exporter": "python",
   "pygments_lexer": "ipython3",
   "version": "3.6.3"
  }
 },
 "nbformat": 4,
 "nbformat_minor": 1
}
