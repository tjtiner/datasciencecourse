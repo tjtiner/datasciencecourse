{
 "cells": [
  {
   "cell_type": "markdown",
   "metadata": {},
   "source": [
    "Adam Vogel u1136766\n",
    "Brooke Stanislawski u1142223"
   ]
  },
  {
   "cell_type": "markdown",
   "metadata": {},
   "source": [
    "+ Could possibly take in every year's data, not just career and rookie year\n",
    "+ There could be some noise between rookie year stats and career stats, since the rookie year is part of the career\n",
    "+ Use clustering to see if the data has any natural clusters\n",
    "+ Have a minimum games played requirement for rookie year that could hopefully take out players who suffered injuries\n"
   ]
  },
  {
   "cell_type": "markdown",
   "metadata": {},
   "source": [
    "I thought their comments were very helpful. They gave us good suggestions that we are planning on implement."
   ]
  }
 ],
 "metadata": {
  "kernelspec": {
   "display_name": "Python 3",
   "language": "python",
   "name": "python3"
  },
  "language_info": {
   "codemirror_mode": {
    "name": "ipython",
    "version": 3
   },
   "file_extension": ".py",
   "mimetype": "text/x-python",
   "name": "python",
   "nbconvert_exporter": "python",
   "pygments_lexer": "ipython3",
   "version": "3.6.3"
  }
 },
 "nbformat": 4,
 "nbformat_minor": 2
}
