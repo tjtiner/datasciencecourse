{
 "cells": [
  {
   "cell_type": "markdown",
   "metadata": {},
   "source": [
    "# Introduction to Data Science – Regular Expressions\n",
    "*COMP 5360 / MATH 4100, University of Utah, http://datasciencecourse.net/* \n",
    "\n",
    "In this lecture we'll learn about regular expressions. Regular expressions are a way to match strings. They are very useful to find (and replace) text, to extract structured information such as e-mails, phone numbers, etc., or for cleaning up text that was entered by humans, and many other applications. \n",
    "\n",
    "In Python, regular expressions are available as part of the [`re`](https://docs.python.org/3/library/re.html#module-re) module. There are various [good](https://docs.python.org/3/howto/regex.html) [tutorials](https://developers.google.com/edu/python/regular-expressions) available on which this document is partially based. "
   ]
  },
  {
   "cell_type": "markdown",
   "metadata": {},
   "source": [
    "The basic syntax to search for a match in a string is this: \n",
    "\n",
    "```python\n",
    "match = re.search(pattern, text)\n",
    "```\n",
    "\n",
    "Here, `pattern` is the regular expression, `text` is the text that the regular expression is applied to. Match holds the search result that matches the string in a object.\n",
    "\n",
    "[`search()`](https://docs.python.org/3/library/re.html#re.search) returns only the first occurrence of a match, in contrast, [`findall()`](https://docs.python.org/3/library/re.html#re.findall) returns all matches.\n",
    "\n",
    "Another useful function is [`split()`](https://docs.python.org/3/library/re.html#re.split), which splits a string based on a regex pattern – we'll use all of these functions and others where appropriate. \n",
    "\n",
    "Mostly, we'll use search to learn about the syntax, but sometimes we'll use split instead of search to explain a pattern. There are other functions which we'll use later."
   ]
  },
  {
   "cell_type": "markdown",
   "metadata": {},
   "source": [
    "## A simple Example\n",
    "\n",
    "We'll use a regular expression: \n",
    "```python\n",
    "'animal:\\w\\w\\w'\n",
    "```\n",
    "\n",
    "To match the substring 'animal:' followed by a three letter word, encoded by '\\w\\w\\w'"
   ]
  },
  {
   "cell_type": "code",
   "execution_count": 1,
   "metadata": {
    "collapsed": true
   },
   "outputs": [],
   "source": [
    "import re"
   ]
  },
  {
   "cell_type": "code",
   "execution_count": 2,
   "metadata": {},
   "outputs": [
    {
     "name": "stdout",
     "output_type": "stream",
     "text": [
      "found: animal:cat\n"
     ]
    }
   ],
   "source": [
    "# example text\n",
    "text = \"an example animal:cat!! animal:dog! animal:hedgehog\"\n",
    "\n",
    "# running the search, r before the string denotes a raw string\n",
    "match = re.search(r\"animal:\\w\\w\\w\", text)\n",
    "# If-statement after search() tests if it succeeded\n",
    "if match:                      \n",
    "    print (\"found:\", match.group()) ## 'found word:cat'\n",
    "else:\n",
    "    print (\"did not find\")"
   ]
  },
  {
   "cell_type": "markdown",
   "metadata": {},
   "source": [
    "Here, the `r` before the string denotes that this should be treated as a raw string literal, i.e., that python shouldn't try to interpret the backslashes as escape characters, as it would, e.g., for `\\n` - new line. This is quite useful for regular expressions, because we'd have to write the above query like this otherwise:\n",
    "\n",
    "```\n",
    "\"animal:\\\\w\\\\w\\\\w\"\n",
    "```\n",
    "\n",
    "The specific match can be retrieved using [`match.group()`](https://docs.python.org/3/library/re.html#re.match.group)."
   ]
  },
  {
   "cell_type": "markdown",
   "metadata": {},
   "source": [
    "## Basic Patterns\n",
    "\n",
    "Ordinary characters, such as \"`a, X, 9, <`\" match themselves literally. "
   ]
  },
  {
   "cell_type": "code",
   "execution_count": 3,
   "metadata": {},
   "outputs": [
    {
     "data": {
      "text/plain": [
       "'sc'"
      ]
     },
     "execution_count": 3,
     "metadata": {},
     "output_type": "execute_result"
    }
   ],
   "source": [
    "# search for occurence of \"sc\"\n",
    "re.search(r\"sc\", \"datascience\").group()"
   ]
  },
  {
   "cell_type": "code",
   "execution_count": 4,
   "metadata": {
    "scrolled": true
   },
   "outputs": [
    {
     "data": {
      "text/plain": [
       "'<'"
      ]
     },
     "execution_count": 4,
     "metadata": {},
     "output_type": "execute_result"
    }
   ],
   "source": [
    "# search for occurence of <\n",
    "re.search(r\"<\", \"data<science\").group()"
   ]
  },
  {
   "cell_type": "markdown",
   "metadata": {},
   "source": [
    "Special characters do not match themselves because they are part of the language. These are `. ^ $ * + ? { [ ] \\ | ( )`.\n",
    " "
   ]
  },
  {
   "cell_type": "code",
   "execution_count": 5,
   "metadata": {},
   "outputs": [
    {
     "data": {
      "text/plain": [
       "''"
      ]
     },
     "execution_count": 5,
     "metadata": {},
     "output_type": "execute_result"
    }
   ],
   "source": [
    "# search for the beginning of the string, not the ^ symbol\n",
    "re.search(r\"^\", \"datascience^2\").group()"
   ]
  },
  {
   "cell_type": "markdown",
   "metadata": {},
   "source": [
    "We can escape special characters to match litteraly with a backslash `\\`."
   ]
  },
  {
   "cell_type": "code",
   "execution_count": 6,
   "metadata": {},
   "outputs": [
    {
     "data": {
      "text/plain": [
       "'^'"
      ]
     },
     "execution_count": 6,
     "metadata": {},
     "output_type": "execute_result"
    }
   ],
   "source": [
    "# search for the ^ symbol by escaping it\n",
    "re.search(r\"\\^\", \"datascience^2\").group()"
   ]
  },
  {
   "cell_type": "markdown",
   "metadata": {},
   "source": [
    " A period `.` matches a single character, but not a newline character."
   ]
  },
  {
   "cell_type": "code",
   "execution_count": 7,
   "metadata": {},
   "outputs": [
    {
     "data": {
      "text/plain": [
       "'d'"
      ]
     },
     "execution_count": 7,
     "metadata": {},
     "output_type": "execute_result"
    }
   ],
   "source": [
    "# search for the first single character\n",
    "re.search(r\".\", \"datascience.net\").group()"
   ]
  },
  {
   "cell_type": "markdown",
   "metadata": {},
   "source": [
    "`\\w` matches a \"word\" character: a letter or digit or underbar `[a-zA-Z0-9_]`. Note  that it only matches a single word char, not a whole word."
   ]
  },
  {
   "cell_type": "code",
   "execution_count": 8,
   "metadata": {},
   "outputs": [
    {
     "data": {
      "text/plain": [
       "'d'"
      ]
     },
     "execution_count": 8,
     "metadata": {},
     "output_type": "execute_result"
    }
   ],
   "source": [
    "# search for the first word char\n",
    "re.search(r\"\\w\", \"datascience\").group()"
   ]
  },
  {
   "cell_type": "code",
   "execution_count": 9,
   "metadata": {},
   "outputs": [
    {
     "data": {
      "text/plain": [
       "'d'"
      ]
     },
     "execution_count": 9,
     "metadata": {},
     "output_type": "execute_result"
    }
   ],
   "source": [
    "# search for the first word char - note that < doesn't match\n",
    "re.search(r\"\\w\", \"<datascience>\").group()"
   ]
  },
  {
   "cell_type": "markdown",
   "metadata": {},
   "source": [
    "\\W (upper case W) matches any non-word character."
   ]
  },
  {
   "cell_type": "code",
   "execution_count": 10,
   "metadata": {},
   "outputs": [
    {
     "data": {
      "text/plain": [
       "'<'"
      ]
     },
     "execution_count": 10,
     "metadata": {},
     "output_type": "execute_result"
    }
   ],
   "source": [
    "# search for the first non-word char\n",
    "re.search(r\"\\W\", \"<datascience>\").group()"
   ]
  },
  {
   "cell_type": "markdown",
   "metadata": {},
   "source": [
    "\\s matches a single whitespace character - space, newline, return, tab, form [ \\n\\r\\t\\f]."
   ]
  },
  {
   "cell_type": "code",
   "execution_count": 11,
   "metadata": {
    "scrolled": true
   },
   "outputs": [
    {
     "data": {
      "text/plain": [
       "['Intro', 'datascience']"
      ]
     },
     "execution_count": 11,
     "metadata": {},
     "output_type": "execute_result"
    }
   ],
   "source": [
    "# split by whitespace - searching for whitespace is boring\n",
    "re.split(r\"\\s\", \"Intro datascience\")"
   ]
  },
  {
   "cell_type": "markdown",
   "metadata": {},
   "source": [
    "\\S (upper case S) matches any non-whitespace character."
   ]
  },
  {
   "cell_type": "code",
   "execution_count": 12,
   "metadata": {},
   "outputs": [
    {
     "data": {
      "text/plain": [
       "'I'"
      ]
     },
     "execution_count": 12,
     "metadata": {},
     "output_type": "execute_result"
    }
   ],
   "source": [
    "# search for first non-whitespace character\n",
    "re.search(r\"\\S\", \" Intro datascience\").group()"
   ]
  },
  {
   "cell_type": "markdown",
   "metadata": {},
   "source": [
    "`\\t`, `\\n`, and `\\r` match tab, newline, and return respectively."
   ]
  },
  {
   "cell_type": "code",
   "execution_count": 13,
   "metadata": {},
   "outputs": [
    {
     "data": {
      "text/plain": [
       "['Intro', 'datascience    2018']"
      ]
     },
     "execution_count": 13,
     "metadata": {},
     "output_type": "execute_result"
    }
   ],
   "source": [
    "# split the string based on tab \\t\n",
    "re.split(r\"\\t\", \"Intro\\tdatascience    2018\")"
   ]
  },
  {
   "cell_type": "markdown",
   "metadata": {},
   "source": [
    "`\\d` matches a decimal digit [0-9]."
   ]
  },
  {
   "cell_type": "code",
   "execution_count": 14,
   "metadata": {},
   "outputs": [
    {
     "data": {
      "text/plain": [
       "'2'"
      ]
     },
     "execution_count": 14,
     "metadata": {},
     "output_type": "execute_result"
    }
   ],
   "source": [
    "re.search(r\"\\d\", \"Intro datascience 2018\").group()"
   ]
  },
  {
   "cell_type": "markdown",
   "metadata": {},
   "source": [
    "`^` matches the start and `$` matches the end of the string. These are useful in context of a larger regular expressions, but not very useful in isolation. "
   ]
  },
  {
   "cell_type": "markdown",
   "metadata": {},
   "source": [
    "### Repetition\n",
    "\n",
    "A key concept in regex is repetition."
   ]
  },
  {
   "cell_type": "markdown",
   "metadata": {},
   "source": [
    "`+` matches 1 or more occurrences of the pattern to its left."
   ]
  },
  {
   "cell_type": "code",
   "execution_count": 15,
   "metadata": {},
   "outputs": [
    {
     "data": {
      "text/plain": [
       "'ooooo'"
      ]
     },
     "execution_count": 15,
     "metadata": {},
     "output_type": "execute_result"
    }
   ],
   "source": [
    "# this matches as much as it can\n",
    "re.search(r\"o+\", \"Introoooo datascience\").group()"
   ]
  },
  {
   "cell_type": "markdown",
   "metadata": {},
   "source": [
    "`*` matches 0 or more occurrences of the pattern on its left"
   ]
  },
  {
   "cell_type": "code",
   "execution_count": 16,
   "metadata": {},
   "outputs": [
    {
     "data": {
      "text/plain": [
       "'1 2   3'"
      ]
     },
     "execution_count": 16,
     "metadata": {},
     "output_type": "execute_result"
    }
   ],
   "source": [
    "# serch for digits \\d possibly seprated by one ore more whitespaces\n",
    "re.search(r'\\d\\s*\\d\\s*\\d', 'xx1 2   3xx').group()"
   ]
  },
  {
   "cell_type": "code",
   "execution_count": 17,
   "metadata": {},
   "outputs": [
    {
     "data": {
      "text/plain": [
       "'123'"
      ]
     },
     "execution_count": 17,
     "metadata": {},
     "output_type": "execute_result"
    }
   ],
   "source": [
    "re.search(r'\\d\\s*\\d\\s*\\d', 'xx123xx').group()"
   ]
  },
  {
   "cell_type": "markdown",
   "metadata": {},
   "source": [
    "We can use this, for example to look for words starting with a certain character: "
   ]
  },
  {
   "cell_type": "code",
   "execution_count": 18,
   "metadata": {},
   "outputs": [
    {
     "data": {
      "text/plain": [
       "'datascience'"
      ]
     },
     "execution_count": 18,
     "metadata": {},
     "output_type": "execute_result"
    }
   ],
   "source": [
    "# d\\w* start with a d, then match zero or more word characters\n",
    "re.search(r\"d\\w*\", \"Introoooo datascience !\").group()"
   ]
  },
  {
   "cell_type": "markdown",
   "metadata": {},
   "source": [
    "`?` matches 0 or 1 occurrences of the pattern on its left:"
   ]
  },
  {
   "cell_type": "code",
   "execution_count": 19,
   "metadata": {},
   "outputs": [
    {
     "data": {
      "text/plain": [
       "'da'"
      ]
     },
     "execution_count": 19,
     "metadata": {},
     "output_type": "execute_result"
    }
   ],
   "source": [
    "# d\\w? start with a d, then match zero or one characters. Why is the result \"da\" not \"d\"?\n",
    "re.search(r\"d\\w?\", \"Introoooo datascience !\").group()"
   ]
  },
  {
   "cell_type": "markdown",
   "metadata": {},
   "source": [
    "Be aware that the zero or more condition can be tricky. For example, if we want to match a `dd` with `*` and do it like this, we get a zero match, because the start of the string already matches the \"or zero\" condition. The correct pattern here would be `d+`."
   ]
  },
  {
   "cell_type": "code",
   "execution_count": 20,
   "metadata": {},
   "outputs": [
    {
     "data": {
      "text/plain": [
       "''"
      ]
     },
     "execution_count": 20,
     "metadata": {},
     "output_type": "execute_result"
    }
   ],
   "source": [
    "re.search(r\"d*\", \"Introoooo ddatascience !\").group()"
   ]
  },
  {
   "cell_type": "markdown",
   "metadata": {},
   "source": [
    "### Example: E-Mails\n",
    "\n",
    "Let's take a look at how we can use regular expressions. Suppose you're a spammer and you want to scrape e-mail addresses from website. \n",
    "\n",
    "Here is an example:"
   ]
  },
  {
   "cell_type": "code",
   "execution_count": 21,
   "metadata": {},
   "outputs": [
    {
     "data": {
      "text/plain": [
       "'alex@sci'"
      ]
     },
     "execution_count": 21,
     "metadata": {},
     "output_type": "execute_result"
    }
   ],
   "source": [
    "html = 'You can reach me <a href=\"mailto:alex@sci.utah.edu\">by e-mail</a> if necessary.'\n",
    "\n",
    "# a first attempt:\n",
    "# \\w+ 1-n word letters, @, 1-n word letters\n",
    "re.search(r'\\w+@\\w+', html).group()"
   ]
  },
  {
   "cell_type": "markdown",
   "metadata": {},
   "source": [
    "That didn't work because `.` doesn't match for `\\w`. We can write a more specific query:"
   ]
  },
  {
   "cell_type": "code",
   "execution_count": 22,
   "metadata": {},
   "outputs": [
    {
     "data": {
      "text/plain": [
       "'alex@sci.utah.edu'"
      ]
     },
     "execution_count": 22,
     "metadata": {},
     "output_type": "execute_result"
    }
   ],
   "source": [
    "# \\w+ 1-n word letters, @, 1-n word letters, a period \\., 1-n word letters, another period \\., \n",
    "# and more 1-n word letters \n",
    "re.search(r'\\w+@\\w+\\.+\\w+\\.\\w+', html).group()"
   ]
  },
  {
   "cell_type": "markdown",
   "metadata": {},
   "source": [
    "That worked! But it's easy to see that this isn't very general, i.e., it doesn't work for every legal e-mail. "
   ]
  },
  {
   "cell_type": "code",
   "execution_count": 23,
   "metadata": {},
   "outputs": [
    {
     "name": "stdout",
     "output_type": "stream",
     "text": [
      "didn't match\n"
     ]
    }
   ],
   "source": [
    "html2 = 'You can reach me <a href=\"mailto:alex@utah.edu\">by e-mail</a> if necessary.'\n",
    "match = re.search(r'\\w+@\\w+\\.+\\w+\\.\\w+', html2)\n",
    "if match:\n",
    "    print(match.group())\n",
    "else:\n",
    "    print (\"didn't match\")"
   ]
  },
  {
   "cell_type": "raw",
   "metadata": {},
   "source": [
    "Here the e-mail alex@utah.edu wasn't matched at all."
   ]
  },
  {
   "cell_type": "code",
   "execution_count": 24,
   "metadata": {},
   "outputs": [
    {
     "name": "stdout",
     "output_type": "stream",
     "text": [
      "lex@sci.utah.edu\n"
     ]
    }
   ],
   "source": [
    "html3 = \"You can reach me <a href='mailto:alex-lex@sci.utah.edu'>by e-mail</a> if necessary.\"\n",
    "\n",
    "# \\w+ 1-n word letters, @,  \n",
    "match = re.search(r'\\w+@\\w+\\.+\\w+\\.\\w+', html3)\n",
    "if match:\n",
    "    print(match.group())\n",
    "else:\n",
    "    print (\"didn't match\")"
   ]
  },
  {
   "cell_type": "markdown",
   "metadata": {},
   "source": [
    "Here, something matched but it's the wrong e-mail! It's not alex-lex@sci.utah.edu, but lex@sci.utah.edu. \n",
    "\n",
    "To fix this, we need another concept:"
   ]
  },
  {
   "cell_type": "markdown",
   "metadata": {},
   "source": [
    "## Sets of legal chars \n",
    "\n",
    "We need another tool: **square brackets** `[]`. When using square brackets to enclose an expression, all the characters in the expression match:"
   ]
  },
  {
   "cell_type": "code",
   "execution_count": 73,
   "metadata": {},
   "outputs": [
    {
     "data": {
      "text/plain": [
       "'alex@sci.utah.edu'"
      ]
     },
     "execution_count": 73,
     "metadata": {},
     "output_type": "execute_result"
    }
   ],
   "source": [
    "#[\\w.-]+ matches all strings that are made up of one or more word, a period ., or dash - characters.\n",
    "re.search(r'[\\w.-]+@[\\w.-]+', html).group()"
   ]
  },
  {
   "cell_type": "code",
   "execution_count": 74,
   "metadata": {},
   "outputs": [
    {
     "data": {
      "text/plain": [
       "'alex@utah.edu'"
      ]
     },
     "execution_count": 74,
     "metadata": {},
     "output_type": "execute_result"
    }
   ],
   "source": [
    "re.search(r'[\\w.-]+@[\\w.-]+', html2).group()"
   ]
  },
  {
   "cell_type": "markdown",
   "metadata": {},
   "source": [
    "That worked wonderfully! See how easy it is to extract an e-mail from a website. "
   ]
  },
  {
   "cell_type": "markdown",
   "metadata": {},
   "source": [
    "However, this pattern matches valid e-mail addresses, but it also matches non-valid ones. So this is a fine regex if you want to extract e-mail addresses, but not if you want to validate an e-mail address:"
   ]
  },
  {
   "cell_type": "code",
   "execution_count": 75,
   "metadata": {},
   "outputs": [
    {
     "data": {
      "text/plain": [
       "'alexander@sci...'"
      ]
     },
     "execution_count": 75,
     "metadata": {},
     "output_type": "execute_result"
    }
   ],
   "source": [
    "html4 = \"alexander@sci...\"\n",
    "\n",
    "re.search(r'[\\w.-]+@[\\w.-]+', html4).group()"
   ]
  },
  {
   "cell_type": "markdown",
   "metadata": {},
   "source": [
    "## Grouping\n",
    "If we want to be more specific about repeating substrings, for example, we need to be able to group a part of a regular expression. You can group with round brackets ():"
   ]
  },
  {
   "cell_type": "code",
   "execution_count": 76,
   "metadata": {},
   "outputs": [
    {
     "data": {
      "text/plain": [
       "'dadadada'"
      ]
     },
     "execution_count": 76,
     "metadata": {},
     "output_type": "execute_result"
    }
   ],
   "source": [
    "# (da)+ gives us 1+ matches of the string \"da\", e.g., this will match da dada dadada, etc.\n",
    "re.search(r\"(da)+\", \"Introoooo dadadadascience 2016\").group()"
   ]
  },
  {
   "cell_type": "markdown",
   "metadata": {},
   "source": [
    "Groups are also a handy way to match a larger string, but only extract what is nested within a group. The [`group()`](https://docs.python.org/3/library/re.html#re.match.group) method we've been using provides access to matched groups independently. Here is an example of extracting a URL from a string: "
   ]
  },
  {
   "cell_type": "code",
   "execution_count": 77,
   "metadata": {},
   "outputs": [
    {
     "name": "stdout",
     "output_type": "stream",
     "text": [
      "The whole match: href=\"http://datasciencecourse.net\"\n",
      "Only the match within the second group at index 1: http://datasciencecourse.net\n"
     ]
    }
   ],
   "source": [
    "url = 'Visit the course website <a href=\"http://datasciencecourse.net\">here</a>'\n",
    "# legal characters in a url are \\w, :, slash / which we have to escape to \\/, period ., \n",
    "# which we have to escape to \\.\n",
    "match = re.search(r'href=\"([\\w:/\\.]+)\"', url)\n",
    "\n",
    "print(\"The whole match:\", match.group())\n",
    "# Here we retreive the first individual group:\n",
    "print(\"Only the match within the second group at index 1:\", match.group(1))"
   ]
  },
  {
   "cell_type": "markdown",
   "metadata": {},
   "source": [
    "## Exercise 2.1\n",
    "\n",
    "You're an evil Spammer who's observed that many people try to obfuscate their e-mail using this notation: \"`alex at utah dot edu`\". Below are three examples of such e-mails text. Try to extract \"alex at utah dot edu\", etc. Start with the first string. Then extend your regular expression to work on all of them at the same time. Note that the second and third are slightly harder to do! "
   ]
  },
  {
   "cell_type": "code",
   "execution_count": 26,
   "metadata": {
    "collapsed": true
   },
   "outputs": [],
   "source": [
    "html_smart = \"You can reach me: alex at utah dot edu\"\n",
    "html_smart2 = \"You can reach me: alex dot lex at utah dot edu\"\n",
    "html_smart3 = \"You can reach me: alex dot lex at sci dot utah dot edu\"\n",
    "\n",
    "def testRegex(regex):\n",
    "    for html in (html_smart, html_smart2, html_smart3):\n",
    "        print(re.search(regex, html).group())"
   ]
  },
  {
   "cell_type": "code",
   "execution_count": 34,
   "metadata": {},
   "outputs": [
    {
     "name": "stdout",
     "output_type": "stream",
     "text": [
      "alex at utah dot edu\n",
      "alex dot lex at utah dot edu\n",
      "alex dot lex at sci dot utah\n"
     ]
    }
   ],
   "source": [
    "# TODO write your regex here\n",
    "mail_regex = \"((\\w+\\s)+(\\sdot)*)+at\\s\\w+\\sdot\\s\\w+\"\n",
    "testRegex(mail_regex)"
   ]
  },
  {
   "cell_type": "markdown",
   "metadata": {},
   "source": [
    "## Find All Occurrences\n",
    "\n",
    "Instead of finding only a single occurrence of a match, we can also find all occurrences. Here is an example:"
   ]
  },
  {
   "cell_type": "code",
   "execution_count": 35,
   "metadata": {},
   "outputs": [
    {
     "data": {
      "text/plain": [
       "['alex-lex@sci.utah.edu', 'b-osting@math.utah.edu']"
      ]
     },
     "execution_count": 35,
     "metadata": {},
     "output_type": "execute_result"
    }
   ],
   "source": [
    "findall_html = 'You can reach us at <a href=\\\"mailto:alex-lex@sci.utah.edu\\\">Alex\\'s</a>  ' \\\n",
    "    'or <a href=\"mailto:b-osting@math.utah.edu\">Braxton\\'s</a> e-mail if necessary.'\n",
    "\n",
    "e_mail_re = r'[\\w.-]+@[\\w.-]+'\n",
    "\n",
    "re.findall(e_mail_re, findall_html)"
   ]
  },
  {
   "cell_type": "markdown",
   "metadata": {},
   "source": [
    "You can also combine the findall with groups:"
   ]
  },
  {
   "cell_type": "code",
   "execution_count": 36,
   "metadata": {},
   "outputs": [
    {
     "data": {
      "text/plain": [
       "[('alex-lex', 'sci.utah.edu'), ('b-osting', 'math.utah.edu')]"
      ]
     },
     "execution_count": 36,
     "metadata": {},
     "output_type": "execute_result"
    }
   ],
   "source": [
    "# separating username and domain\n",
    "e_mail_re_groups = r'([\\w.-]+)@([\\w.-]+)'\n",
    "\n",
    "re.findall(e_mail_re_groups, findall_html)"
   ]
  },
  {
   "cell_type": "markdown",
   "metadata": {},
   "source": [
    "If we want to use parentheses only for logic, not for grouping, we can use the `(?:)` syntax (a non-capturing grouping):"
   ]
  },
  {
   "cell_type": "code",
   "execution_count": 37,
   "metadata": {},
   "outputs": [
    {
     "data": {
      "text/plain": [
       "['alex-lex@sci.utah.edu', 'b-osting@math.utah.edu']"
      ]
     },
     "execution_count": 37,
     "metadata": {},
     "output_type": "execute_result"
    }
   ],
   "source": [
    "re.findall(r'(?:[\\w.-]+)@(?:[\\w.-]+)', findall_html)"
   ]
  },
  {
   "cell_type": "markdown",
   "metadata": {},
   "source": [
    "## Greedy vs Non-Greedy\n",
    "\n",
    "By default, regular expressions are greedy. In this example, we try to match HTML tags:"
   ]
  },
  {
   "cell_type": "code",
   "execution_count": 38,
   "metadata": {},
   "outputs": [
    {
     "data": {
      "text/plain": [
       "['<b>amount and complexity</b> of information produced in <i>science</i>']"
      ]
     },
     "execution_count": 38,
     "metadata": {},
     "output_type": "execute_result"
    }
   ],
   "source": [
    "html_tags = \"The <b>amount and complexity</b> of information produced in <i>science</i>...\"\n",
    "\n",
    "# start with <, repeat any character 1-n times, close with >\n",
    "re.findall(\"<.+>\", html_tags)"
   ]
  },
  {
   "cell_type": "markdown",
   "metadata": {},
   "source": [
    "This wasn't what we tried to do - the greedy nature of regex matched from the first opening tag < to the last closing tag. We can modify this behavior with the `?` character, which signals that the expression on the left should not be greedy:"
   ]
  },
  {
   "cell_type": "code",
   "execution_count": 39,
   "metadata": {},
   "outputs": [
    {
     "data": {
      "text/plain": [
       "['<b>', '</b>', '<i>', '</i>']"
      ]
     },
     "execution_count": 39,
     "metadata": {},
     "output_type": "execute_result"
    }
   ],
   "source": [
    "# start with <, repeat any character 1-n times in a non-greedy way, terminat at the first >\n",
    "re.findall(\"<.+?>\", html_tags)"
   ]
  },
  {
   "cell_type": "markdown",
   "metadata": {},
   "source": [
    "Greedy applies to the `*`, `+` and `?` operators – so these are legal sequences: `*?`, +?, ??"
   ]
  },
  {
   "cell_type": "markdown",
   "metadata": {},
   "source": [
    "## Custom character subsets\n",
    "\n",
    "You can also define custom character sets by specifying a range with a dash: "
   ]
  },
  {
   "cell_type": "code",
   "execution_count": 40,
   "metadata": {},
   "outputs": [
    {
     "data": {
      "text/plain": [
       "'234'"
      ]
     },
     "execution_count": 40,
     "metadata": {},
     "output_type": "execute_result"
    }
   ],
   "source": [
    "re.search(r\"[2-9]+\", \"0123405\").group()"
   ]
  },
  {
   "cell_type": "markdown",
   "metadata": {},
   "source": [
    "When combined with character sets, we can use the `^` operator to invert a match."
   ]
  },
  {
   "cell_type": "code",
   "execution_count": 41,
   "metadata": {},
   "outputs": [
    {
     "data": {
      "text/plain": [
       "'34'"
      ]
     },
     "execution_count": 41,
     "metadata": {},
     "output_type": "execute_result"
    }
   ],
   "source": [
    "re.search(r\"[^0-2]+\", \"0123405\").group()"
   ]
  },
  {
   "cell_type": "markdown",
   "metadata": {},
   "source": [
    "## Specifying number of copies\n",
    "\n",
    "`{m}` Specifies that exactly m copies of the previous RE should be matched. Fewer matches cause the entire RE not to match. "
   ]
  },
  {
   "cell_type": "code",
   "execution_count": 42,
   "metadata": {},
   "outputs": [
    {
     "data": {
      "text/plain": [
       "['857', '131', '223', '801', '134', '221']"
      ]
     },
     "execution_count": 42,
     "metadata": {},
     "output_type": "execute_result"
    }
   ],
   "source": [
    "phone_numbers = \"(857) 131-2235, (801) 134-2215, this is common in twelve (12) countries and one (1) state\"\n",
    "\n",
    "# match exactly three digits enclosed in brackets\n",
    "re.findall(\"\\(([0-9]{3})\\)\", phone_numbers)\n",
    "re.findall(\"[0-9]{3}\", phone_numbers)"
   ]
  },
  {
   "cell_type": "markdown",
   "metadata": {},
   "source": [
    "{m,n} specifies that m to n copies match:"
   ]
  },
  {
   "cell_type": "code",
   "execution_count": 43,
   "metadata": {},
   "outputs": [
    {
     "data": {
      "text/plain": [
       "['857', '801', '12']"
      ]
     },
     "execution_count": 43,
     "metadata": {},
     "output_type": "execute_result"
    }
   ],
   "source": [
    "# match two to three digits enclosed in brackets\n",
    "re.findall(\"\\(([0-9]{2,3})\\)\", phone_numbers)"
   ]
  },
  {
   "cell_type": "markdown",
   "metadata": {},
   "source": [
    "## Or expression\n",
    "\n",
    "We can use the pipe `|` to define an or between any regular expression:"
   ]
  },
  {
   "cell_type": "code",
   "execution_count": 44,
   "metadata": {},
   "outputs": [
    {
     "data": {
      "text/plain": [
       "['Monday', 'Wednesday']"
      ]
     },
     "execution_count": 44,
     "metadata": {},
     "output_type": "execute_result"
    }
   ],
   "source": [
    "weekdays = \"We could meet Monday or Wednesday\"\n",
    "\n",
    "re.findall(\"Monday|Tuesday|Wednesday|Thursday|Friday|Saturday|Sunday\", weekdays)"
   ]
  },
  {
   "cell_type": "markdown",
   "metadata": {},
   "source": [
    "## Replacing strings\n",
    "\n",
    "We can use the [`sub()`](https://docs.python.org/3/library/re.html#re.sub) to dynamically replace content. "
   ]
  },
  {
   "cell_type": "code",
   "execution_count": 45,
   "metadata": {},
   "outputs": [
    {
     "data": {
      "text/plain": [
       "'We could meet Weekday or Weekday'"
      ]
     },
     "execution_count": 45,
     "metadata": {},
     "output_type": "execute_result"
    }
   ],
   "source": [
    "re.sub(\"Monday|Tuesday|Wednesday|Thursday|Friday\", \"Weekday\",  weekdays)"
   ]
  },
  {
   "cell_type": "markdown",
   "metadata": {},
   "source": [
    "## Other Functions\n",
    "\n",
    "We've covered a lot, but not all of the functionality of regex.  A couple of other functions that could be helpful:\n",
    "\n",
    "* [finditer](https://docs.python.org/3/library/re.html#re.finditer) returns an iterator\n",
    "* the [IGNORECASE](https://docs.python.org/3/library/re.html#re.IGNORECASE) option\n",
    "* the [DOTALL](https://docs.python.org/3/library/re.html#re.DOTALL) option makes a . match a new line character too.\n",
    "\n"
   ]
  },
  {
   "cell_type": "markdown",
   "metadata": {},
   "source": [
    "## Exercises\n",
    "\n",
    "### Exercise 2.2: Find Adverbs\n",
    "\n",
    "Write a regular expression that finds all adverbs in a sentence. Adverbs are characterized by ending in \"ly\"."
   ]
  },
  {
   "cell_type": "code",
   "execution_count": 46,
   "metadata": {
    "collapsed": true
   },
   "outputs": [],
   "source": [
    "text = \"He was carefully disguised but captured quickly by police.\""
   ]
  },
  {
   "cell_type": "code",
   "execution_count": 55,
   "metadata": {},
   "outputs": [
    {
     "data": {
      "text/plain": [
       "['carefully', 'quickly']"
      ]
     },
     "execution_count": 55,
     "metadata": {},
     "output_type": "execute_result"
    }
   ],
   "source": [
    "re.findall(r\"\\w+ly\",text)"
   ]
  },
  {
   "cell_type": "markdown",
   "metadata": {},
   "source": [
    "### Exercise 2.3: Phone Numbers\n",
    "\n",
    "Extract the phone numbers that follow a (xxx) xxx-xxxx pattern from the text:"
   ]
  },
  {
   "cell_type": "code",
   "execution_count": 44,
   "metadata": {
    "collapsed": true
   },
   "outputs": [],
   "source": [
    "phone_numbers = \"(857) 131-2235, (801) 134-2215, but this one (12) 13044441 shouldnt match. Also, this is common in twelve (12) countries and one (1) state\""
   ]
  },
  {
   "cell_type": "code",
   "execution_count": 54,
   "metadata": {},
   "outputs": [
    {
     "data": {
      "text/plain": [
       "['(857) 131-2235', '(801) 134-2215']"
      ]
     },
     "execution_count": 54,
     "metadata": {},
     "output_type": "execute_result"
    }
   ],
   "source": [
    "re.findall(r\"\\([0-9]{3}\\)\\s[0-9]{3}-[0-9]{4}\",phone_numbers)"
   ]
  },
  {
   "cell_type": "markdown",
   "metadata": {},
   "source": [
    "### Exercise 2.4: HTML Content\n",
    "\n",
    "Extract the content between the `<b>` and `<i>` tags but not the other tags:"
   ]
  },
  {
   "cell_type": "code",
   "execution_count": 57,
   "metadata": {
    "collapsed": true
   },
   "outputs": [],
   "source": [
    "html_tags = \"This is <b>important</b> and <u>very</u><i>timely</i>\""
   ]
  },
  {
   "cell_type": "code",
   "execution_count": 58,
   "metadata": {},
   "outputs": [
    {
     "data": {
      "text/plain": [
       "['important', 'timely']"
      ]
     },
     "execution_count": 58,
     "metadata": {},
     "output_type": "execute_result"
    }
   ],
   "source": [
    "re.findall(r\"<[bi]>(.*?)<\\/[bi]>\",html_tags)"
   ]
  },
  {
   "cell_type": "code",
   "execution_count": null,
   "metadata": {
    "collapsed": true
   },
   "outputs": [],
   "source": []
  }
 ],
 "metadata": {
  "anaconda-cloud": {},
  "kernelspec": {
   "display_name": "Python 3",
   "language": "python",
   "name": "python3"
  },
  "language_info": {
   "codemirror_mode": {
    "name": "ipython",
    "version": 3
   },
   "file_extension": ".py",
   "mimetype": "text/x-python",
   "name": "python",
   "nbconvert_exporter": "python",
   "pygments_lexer": "ipython3",
   "version": "3.6.3"
  }
 },
 "nbformat": 4,
 "nbformat_minor": 1
}
