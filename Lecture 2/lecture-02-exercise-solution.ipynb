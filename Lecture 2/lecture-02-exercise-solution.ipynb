{
 "cells": [
  {
   "cell_type": "markdown",
   "metadata": {},
   "source": [
    "### Exercise: Creating Cells, Executing Code\n",
    "\n",
    "1. Create a new code cell below where you define variables containing your name, your age in years, and your major.\n",
    "2. Create another cell that uses these variables and prints a concatenated string stating your name, major, and your age in years, months, and days (assuming today is your birthday ;)). The output should look like that:\n",
    "\n",
    "```\n",
    "Name: Science Cat, Major: Computer Science, Age: 94 years, or 1128 months, or 34310 days. \n",
    "```"
   ]
  },
  {
   "cell_type": "code",
   "execution_count": 1,
   "metadata": {},
   "outputs": [],
   "source": [
    "name = \"Alexander Lex\"\n",
    "major = \"Computer Science\"\n",
    "age = 36"
   ]
  },
  {
   "cell_type": "code",
   "execution_count": 2,
   "metadata": {},
   "outputs": [
    {
     "name": "stdout",
     "output_type": "stream",
     "text": [
      "Name: Alexander Lex, Major: Computer Science, age: 36 years, or 432 months, or 157680 days\n"
     ]
    }
   ],
   "source": [
    "print (\"Name:\", name+\",\", \"Major:\", major+\",\", \"age:\", age, \"years, or\", age * 12, \"months, or\", age * 12 * 365, \"days\")"
   ]
  },
  {
   "cell_type": "markdown",
   "metadata": {},
   "source": [
    "### Exercise: Functions\n",
    "Write a function that \n",
    " * takes two numerical variables\n",
    " * multiplies them with each other\n",
    " * divides them by a numerical variable defined in the scope outside the function\n",
    " * and returns the result. \n",
    " \n",
    "Print the result of the function for three different sets of input variables. "
   ]
  },
  {
   "cell_type": "code",
   "execution_count": 3,
   "metadata": {
    "collapsed": true
   },
   "outputs": [],
   "source": [
    "side_effect_variable = 3\n",
    "def multiply_with_side_effect(x, y):\n",
    "    return x*y/side_effect_variable"
   ]
  },
  {
   "cell_type": "code",
   "execution_count": 4,
   "metadata": {},
   "outputs": [
    {
     "data": {
      "text/plain": [
       "2.6666666666666665"
      ]
     },
     "execution_count": 4,
     "metadata": {},
     "output_type": "execute_result"
    }
   ],
   "source": [
    "multiply_with_side_effect(2,4)"
   ]
  },
  {
   "cell_type": "code",
   "execution_count": 5,
   "metadata": {},
   "outputs": [
    {
     "data": {
      "text/plain": [
       "3.0"
      ]
     },
     "execution_count": 5,
     "metadata": {},
     "output_type": "execute_result"
    }
   ],
   "source": [
    "multiply_with_side_effect(3,3)"
   ]
  },
  {
   "cell_type": "code",
   "execution_count": 6,
   "metadata": {},
   "outputs": [
    {
     "data": {
      "text/plain": [
       "27.0"
      ]
     },
     "execution_count": 6,
     "metadata": {},
     "output_type": "execute_result"
    }
   ],
   "source": [
    "multiply_with_side_effect(9,9)"
   ]
  }
 ],
 "metadata": {
  "kernelspec": {
   "display_name": "Python 3",
   "language": "python",
   "name": "python3"
  },
  "language_info": {
   "codemirror_mode": {
    "name": "ipython",
    "version": 3
   },
   "file_extension": ".py",
   "mimetype": "text/x-python",
   "name": "python",
   "nbconvert_exporter": "python",
   "pygments_lexer": "ipython3",
   "version": "3.6.3"
  }
 },
 "nbformat": 4,
 "nbformat_minor": 2
}
